{
 "cells": [
  {
   "cell_type": "markdown",
   "metadata": {},
   "source": [
    "# Team One: The Opioid Crisis in the United States"
   ]
  },
  {
   "cell_type": "markdown",
   "metadata": {},
   "source": [
    "### Analysis\n",
    "* OBSERVED TREND For Research Question 1: \n",
    "* OBSERVED TREND For Research Question 2: \n",
    "* OBSERVED TREND For Research Question 3: \n",
    "* OBSERVED TREND For Research Question 3: \n"
   ]
  },
  {
   "cell_type": "markdown",
   "metadata": {},
   "source": [
    "###### Development team notes and caveats:\n",
    "* "
   ]
  },
  {
   "cell_type": "markdown",
   "metadata": {},
   "source": [
    "#### Dependencies"
   ]
  },
  {
   "cell_type": "code",
   "execution_count": 1,
   "metadata": {
    "collapsed": true
   },
   "outputs": [],
   "source": [
    "import os                                                                    # os library"
   ]
  },
  {
   "cell_type": "code",
   "execution_count": 2,
   "metadata": {
    "collapsed": true
   },
   "outputs": [],
   "source": [
    "import numpy as np                                                           # numpy library"
   ]
  },
  {
   "cell_type": "code",
   "execution_count": 3,
   "metadata": {
    "collapsed": true
   },
   "outputs": [],
   "source": [
    "import pandas as pd                                                          # pandas library"
   ]
  },
  {
   "cell_type": "code",
   "execution_count": 4,
   "metadata": {
    "collapsed": true
   },
   "outputs": [],
   "source": [
    "import matplotlib.pyplot as plt                                              # pyplot module from matplotlib library"
   ]
  },
  {
   "cell_type": "code",
   "execution_count": 5,
   "metadata": {
    "collapsed": true
   },
   "outputs": [],
   "source": [
    "import matplotlib.patches as mpatches                                        # patches module from matplotlib library"
   ]
  },
  {
   "cell_type": "code",
   "execution_count": 6,
   "metadata": {
    "collapsed": true
   },
   "outputs": [],
   "source": [
    "import seaborn as sns                                                        # seaborn library"
   ]
  },
  {
   "cell_type": "code",
   "execution_count": 7,
   "metadata": {
    "collapsed": true
   },
   "outputs": [],
   "source": [
    "from citipy import citipy                                                    # citipy module from citipy library"
   ]
  },
  {
   "cell_type": "code",
   "execution_count": 8,
   "metadata": {
    "collapsed": true
   },
   "outputs": [],
   "source": [
    "import requests                                                              # requests library"
   ]
  },
  {
   "cell_type": "code",
   "execution_count": 9,
   "metadata": {
    "collapsed": true
   },
   "outputs": [],
   "source": [
    "from datetime import datetime                                                # datetime module from datetime library"
   ]
  },
  {
   "cell_type": "code",
   "execution_count": 10,
   "metadata": {
    "collapsed": true
   },
   "outputs": [],
   "source": [
    "import time                                                                  # time library, api call compliance"
   ]
  },
  {
   "cell_type": "code",
   "execution_count": 11,
   "metadata": {
    "collapsed": true
   },
   "outputs": [],
   "source": [
    "sns.set()                                                                    # switches to seaborn default display"
   ]
  },
  {
   "cell_type": "markdown",
   "metadata": {},
   "source": [
    "#### Research Question 1"
   ]
  },
  {
   "cell_type": "code",
   "execution_count": 12,
   "metadata": {
    "collapsed": true
   },
   "outputs": [],
   "source": [
    "filename = 'Q1DS1.csv'                                                       # 1st data file for Q1"
   ]
  },
  {
   "cell_type": "code",
   "execution_count": 13,
   "metadata": {
    "collapsed": true
   },
   "outputs": [],
   "source": [
    "csv_file = os.path.join(\".\", \"Data Files\", filename)                         # creates path to read data"
   ]
  },
  {
   "cell_type": "code",
   "execution_count": 14,
   "metadata": {
    "collapsed": true
   },
   "outputs": [],
   "source": [
    "q1_df = pd.read_csv(csv_file, index_col=\"Year\")                              # reads data from file"
   ]
  },
  {
   "cell_type": "code",
   "execution_count": 15,
   "metadata": {},
   "outputs": [
    {
     "data": {
      "text/html": [
       "<div>\n",
       "<style>\n",
       "    .dataframe thead tr:only-child th {\n",
       "        text-align: right;\n",
       "    }\n",
       "\n",
       "    .dataframe thead th {\n",
       "        text-align: left;\n",
       "    }\n",
       "\n",
       "    .dataframe tbody tr th {\n",
       "        vertical-align: top;\n",
       "    }\n",
       "</style>\n",
       "<table border=\"1\" class=\"dataframe\">\n",
       "  <thead>\n",
       "    <tr style=\"text-align: right;\">\n",
       "      <th></th>\n",
       "      <th>Year Code</th>\n",
       "      <th>Deaths</th>\n",
       "      <th>Population</th>\n",
       "      <th>Crude Rate</th>\n",
       "      <th>Crude Rate Standard Error</th>\n",
       "    </tr>\n",
       "    <tr>\n",
       "      <th>Year</th>\n",
       "      <th></th>\n",
       "      <th></th>\n",
       "      <th></th>\n",
       "      <th></th>\n",
       "      <th></th>\n",
       "    </tr>\n",
       "  </thead>\n",
       "  <tbody>\n",
       "    <tr>\n",
       "      <th>1999</th>\n",
       "      <td>1999</td>\n",
       "      <td>5594</td>\n",
       "      <td>279040168</td>\n",
       "      <td>2.004729</td>\n",
       "      <td>0.0</td>\n",
       "    </tr>\n",
       "    <tr>\n",
       "      <th>2000</th>\n",
       "      <td>2000</td>\n",
       "      <td>6011</td>\n",
       "      <td>281421906</td>\n",
       "      <td>2.135939</td>\n",
       "      <td>0.0</td>\n",
       "    </tr>\n",
       "    <tr>\n",
       "      <th>2001</th>\n",
       "      <td>2001</td>\n",
       "      <td>7088</td>\n",
       "      <td>284968955</td>\n",
       "      <td>2.487288</td>\n",
       "      <td>0.0</td>\n",
       "    </tr>\n",
       "    <tr>\n",
       "      <th>2002</th>\n",
       "      <td>2002</td>\n",
       "      <td>9318</td>\n",
       "      <td>287625193</td>\n",
       "      <td>3.239633</td>\n",
       "      <td>0.0</td>\n",
       "    </tr>\n",
       "    <tr>\n",
       "      <th>2003</th>\n",
       "      <td>2003</td>\n",
       "      <td>10389</td>\n",
       "      <td>290107933</td>\n",
       "      <td>3.581081</td>\n",
       "      <td>0.0</td>\n",
       "    </tr>\n",
       "  </tbody>\n",
       "</table>\n",
       "</div>"
      ],
      "text/plain": [
       "      Year Code  Deaths  Population  Crude Rate  Crude Rate Standard Error\n",
       "Year                                                                      \n",
       "1999       1999    5594   279040168    2.004729                        0.0\n",
       "2000       2000    6011   281421906    2.135939                        0.0\n",
       "2001       2001    7088   284968955    2.487288                        0.0\n",
       "2002       2002    9318   287625193    3.239633                        0.0\n",
       "2003       2003   10389   290107933    3.581081                        0.0"
      ]
     },
     "execution_count": 15,
     "metadata": {},
     "output_type": "execute_result"
    }
   ],
   "source": [
    "q1_df.head()                                                                 # displays dataframe"
   ]
  },
  {
   "cell_type": "code",
   "execution_count": 16,
   "metadata": {
    "collapsed": true
   },
   "outputs": [],
   "source": [
    "year_min = q1_df.index.min()                                                 # finds min and max dates\n",
    "year_max = q1_df.index.max()"
   ]
  },
  {
   "cell_type": "code",
   "execution_count": 17,
   "metadata": {},
   "outputs": [
    {
     "data": {
      "text/plain": [
       "([<matplotlib.axis.XTick at 0xe0fc198>,\n",
       "  <matplotlib.axis.XTick at 0xe0d2f98>,\n",
       "  <matplotlib.axis.XTick at 0xe0e4f98>,\n",
       "  <matplotlib.axis.XTick at 0xe15b908>,\n",
       "  <matplotlib.axis.XTick at 0xe165048>,\n",
       "  <matplotlib.axis.XTick at 0xe1657b8>,\n",
       "  <matplotlib.axis.XTick at 0xe165f28>,\n",
       "  <matplotlib.axis.XTick at 0xe1696d8>,\n",
       "  <matplotlib.axis.XTick at 0xe169e48>,\n",
       "  <matplotlib.axis.XTick at 0xe16e5f8>,\n",
       "  <matplotlib.axis.XTick at 0xe16ed68>,\n",
       "  <matplotlib.axis.XTick at 0xe384518>,\n",
       "  <matplotlib.axis.XTick at 0xe384c88>,\n",
       "  <matplotlib.axis.XTick at 0xe389438>,\n",
       "  <matplotlib.axis.XTick at 0xe389ba8>,\n",
       "  <matplotlib.axis.XTick at 0xe38f358>,\n",
       "  <matplotlib.axis.XTick at 0xe38fac8>],\n",
       " <a list of 17 Text xticklabel objects>)"
      ]
     },
     "execution_count": 17,
     "metadata": {},
     "output_type": "execute_result"
    }
   ],
   "source": [
    "plt.figure(figsize = (12,10))                                                # sets bar chart parameters\n",
    "plt.title('Opioid Deaths By Year: %s to %s' % (year_min, year_max), fontdict = {'fontsize': 20})\n",
    "plt.xlabel('Year', fontdict = {'fontsize': 16})\n",
    "plt.ylabel('Deaths', fontdict = {'fontsize': 16})\n",
    "\n",
    "#xlabels = str(q1_df.index)\n",
    "xvals = np.arange(len(q1_df))\n",
    "tick_locations = [value+0.4 for value in xvals]\n",
    "\n",
    "plt.bar(xvals, q1_df['Deaths'], color='r', alpha=0.7, align=\"edge\")\n",
    "plt.xticks(tick_locations, q1_df['Year Code'], rotation=\"horizontal\")"
   ]
  },
  {
   "cell_type": "code",
   "execution_count": 18,
   "metadata": {},
   "outputs": [
    {
     "data": {
      "image/png": "[encoded data removed]",
      "text/plain": [
       "<matplotlib.figure.Figure at 0xe0d22b0>"
      ]
     },
     "metadata": {},
     "output_type": "display_data"
    }
   ],
   "source": [
    "plt.show()                                                                   # displays plot"
   ]
  },
  {
   "cell_type": "markdown",
   "metadata": {
    "collapsed": true
   },
   "source": [
    "#### Research Question 2"
   ]
  },
  {
   "cell_type": "code",
   "execution_count": null,
   "metadata": {
    "collapsed": true
   },
   "outputs": [],
   "source": []
  },
  {
   "cell_type": "markdown",
   "metadata": {
    "collapsed": true
   },
   "source": [
    "#### Research Question 3\n",
    "#### Impact of the opioid epidemic\n",
    "Are urban areas impacted more by the opioid epidemic? Scatterplot of Urban vs. not urban "
   ]
  },
  {
   "cell_type": "code",
   "execution_count": 11,
   "metadata": {},
   "outputs": [
    {
     "data": {
      "text/html": [
       "<div>\n",
       "<style>\n",
       "    .dataframe thead tr:only-child th {\n",
       "        text-align: right;\n",
       "    }\n",
       "\n",
       "    .dataframe thead th {\n",
       "        text-align: left;\n",
       "    }\n",
       "\n",
       "    .dataframe tbody tr th {\n",
       "        vertical-align: top;\n",
       "    }\n",
       "</style>\n",
       "<table border=\"1\" class=\"dataframe\">\n",
       "  <thead>\n",
       "    <tr style=\"text-align: right;\">\n",
       "      <th></th>\n",
       "      <th>Location</th>\n",
       "      <th>1999__Opioid Overdose Death Rate (Age-Adjusted)</th>\n",
       "      <th>2000__Opioid Overdose Death Rate (Age-Adjusted)</th>\n",
       "      <th>2001__Opioid Overdose Death Rate (Age-Adjusted)</th>\n",
       "      <th>2002__Opioid Overdose Death Rate (Age-Adjusted)</th>\n",
       "      <th>2003__Opioid Overdose Death Rate (Age-Adjusted)</th>\n",
       "      <th>2004__Opioid Overdose Death Rate (Age-Adjusted)</th>\n",
       "      <th>2005__Opioid Overdose Death Rate (Age-Adjusted)</th>\n",
       "      <th>2006__Opioid Overdose Death Rate (Age-Adjusted)</th>\n",
       "      <th>2007__Opioid Overdose Death Rate (Age-Adjusted)</th>\n",
       "      <th>2008__Opioid Overdose Death Rate (Age-Adjusted)</th>\n",
       "      <th>2009__Opioid Overdose Death Rate (Age-Adjusted)</th>\n",
       "      <th>2010__Opioid Overdose Death Rate (Age-Adjusted)</th>\n",
       "      <th>2011__Opioid Overdose Death Rate (Age-Adjusted)</th>\n",
       "      <th>2012__Opioid Overdose Death Rate (Age-Adjusted)</th>\n",
       "      <th>2013__Opioid Overdose Death Rate (Age-Adjusted)</th>\n",
       "      <th>2014__Opioid Overdose Death Rate (Age-Adjusted)</th>\n",
       "      <th>2015__Opioid Overdose Death Rate (Age-Adjusted)</th>\n",
       "    </tr>\n",
       "  </thead>\n",
       "  <tbody>\n",
       "    <tr>\n",
       "      <th>47</th>\n",
       "      <td>Virginia</td>\n",
       "      <td>2.7</td>\n",
       "      <td>3.4</td>\n",
       "      <td>4.2</td>\n",
       "      <td>4.7</td>\n",
       "      <td>4.8</td>\n",
       "      <td>5.1</td>\n",
       "      <td>4.7</td>\n",
       "      <td>5.3</td>\n",
       "      <td>6.4</td>\n",
       "      <td>6.2</td>\n",
       "      <td>5.9</td>\n",
       "      <td>4.8</td>\n",
       "      <td>7.1</td>\n",
       "      <td>6.5</td>\n",
       "      <td>7.6</td>\n",
       "      <td>9.1</td>\n",
       "      <td>9.9</td>\n",
       "    </tr>\n",
       "    <tr>\n",
       "      <th>48</th>\n",
       "      <td>Washington</td>\n",
       "      <td>5.9</td>\n",
       "      <td>5.8</td>\n",
       "      <td>5.3</td>\n",
       "      <td>7.4</td>\n",
       "      <td>7.5</td>\n",
       "      <td>9</td>\n",
       "      <td>9.2</td>\n",
       "      <td>10</td>\n",
       "      <td>9.7</td>\n",
       "      <td>10.1</td>\n",
       "      <td>10.2</td>\n",
       "      <td>8.9</td>\n",
       "      <td>9.9</td>\n",
       "      <td>9.7</td>\n",
       "      <td>8.9</td>\n",
       "      <td>9.2</td>\n",
       "      <td>9.3</td>\n",
       "    </tr>\n",
       "    <tr>\n",
       "      <th>49</th>\n",
       "      <td>West Virginia</td>\n",
       "      <td>1.8</td>\n",
       "      <td>2.8</td>\n",
       "      <td>7.9</td>\n",
       "      <td>10.1</td>\n",
       "      <td>11.2</td>\n",
       "      <td>14.2</td>\n",
       "      <td>8.2</td>\n",
       "      <td>16.1</td>\n",
       "      <td>19</td>\n",
       "      <td>21.0</td>\n",
       "      <td>10.3</td>\n",
       "      <td>25.6</td>\n",
       "      <td>31.5</td>\n",
       "      <td>27.1</td>\n",
       "      <td>27.9</td>\n",
       "      <td>31.6</td>\n",
       "      <td>36.0</td>\n",
       "    </tr>\n",
       "    <tr>\n",
       "      <th>50</th>\n",
       "      <td>Wisconsin</td>\n",
       "      <td>1.6</td>\n",
       "      <td>2.1</td>\n",
       "      <td>2.6</td>\n",
       "      <td>3.2</td>\n",
       "      <td>3.7</td>\n",
       "      <td>4</td>\n",
       "      <td>4.9</td>\n",
       "      <td>6</td>\n",
       "      <td>6.7</td>\n",
       "      <td>6.6</td>\n",
       "      <td>6.9</td>\n",
       "      <td>7.3</td>\n",
       "      <td>8.3</td>\n",
       "      <td>8.6</td>\n",
       "      <td>10.6</td>\n",
       "      <td>11.1</td>\n",
       "      <td>11.2</td>\n",
       "    </tr>\n",
       "    <tr>\n",
       "      <th>51</th>\n",
       "      <td>Wyoming</td>\n",
       "      <td>NaN</td>\n",
       "      <td>NaN</td>\n",
       "      <td>NaN</td>\n",
       "      <td>NaN</td>\n",
       "      <td>NaN</td>\n",
       "      <td>NaN</td>\n",
       "      <td>NaN</td>\n",
       "      <td>NaN</td>\n",
       "      <td>4.6</td>\n",
       "      <td>7.6</td>\n",
       "      <td>5.7</td>\n",
       "      <td>8.5</td>\n",
       "      <td>7.5</td>\n",
       "      <td>7.7</td>\n",
       "      <td>8.6</td>\n",
       "      <td>9.3</td>\n",
       "      <td>7.9</td>\n",
       "    </tr>\n",
       "  </tbody>\n",
       "</table>\n",
       "</div>"
      ],
      "text/plain": [
       "         Location 1999__Opioid Overdose Death Rate (Age-Adjusted)  \\\n",
       "47       Virginia                                             2.7   \n",
       "48     Washington                                             5.9   \n",
       "49  West Virginia                                             1.8   \n",
       "50      Wisconsin                                             1.6   \n",
       "51        Wyoming                                             NaN   \n",
       "\n",
       "   2000__Opioid Overdose Death Rate (Age-Adjusted)  \\\n",
       "47                                             3.4   \n",
       "48                                             5.8   \n",
       "49                                             2.8   \n",
       "50                                             2.1   \n",
       "51                                             NaN   \n",
       "\n",
       "   2001__Opioid Overdose Death Rate (Age-Adjusted)  \\\n",
       "47                                             4.2   \n",
       "48                                             5.3   \n",
       "49                                             7.9   \n",
       "50                                             2.6   \n",
       "51                                             NaN   \n",
       "\n",
       "   2002__Opioid Overdose Death Rate (Age-Adjusted)  \\\n",
       "47                                             4.7   \n",
       "48                                             7.4   \n",
       "49                                            10.1   \n",
       "50                                             3.2   \n",
       "51                                             NaN   \n",
       "\n",
       "   2003__Opioid Overdose Death Rate (Age-Adjusted)  \\\n",
       "47                                             4.8   \n",
       "48                                             7.5   \n",
       "49                                            11.2   \n",
       "50                                             3.7   \n",
       "51                                             NaN   \n",
       "\n",
       "   2004__Opioid Overdose Death Rate (Age-Adjusted)  \\\n",
       "47                                             5.1   \n",
       "48                                               9   \n",
       "49                                            14.2   \n",
       "50                                               4   \n",
       "51                                             NaN   \n",
       "\n",
       "   2005__Opioid Overdose Death Rate (Age-Adjusted)  \\\n",
       "47                                             4.7   \n",
       "48                                             9.2   \n",
       "49                                             8.2   \n",
       "50                                             4.9   \n",
       "51                                             NaN   \n",
       "\n",
       "   2006__Opioid Overdose Death Rate (Age-Adjusted)  \\\n",
       "47                                             5.3   \n",
       "48                                              10   \n",
       "49                                            16.1   \n",
       "50                                               6   \n",
       "51                                             NaN   \n",
       "\n",
       "   2007__Opioid Overdose Death Rate (Age-Adjusted)  \\\n",
       "47                                             6.4   \n",
       "48                                             9.7   \n",
       "49                                              19   \n",
       "50                                             6.7   \n",
       "51                                             4.6   \n",
       "\n",
       "    2008__Opioid Overdose Death Rate (Age-Adjusted)  \\\n",
       "47                                              6.2   \n",
       "48                                             10.1   \n",
       "49                                             21.0   \n",
       "50                                              6.6   \n",
       "51                                              7.6   \n",
       "\n",
       "   2009__Opioid Overdose Death Rate (Age-Adjusted)  \\\n",
       "47                                             5.9   \n",
       "48                                            10.2   \n",
       "49                                            10.3   \n",
       "50                                             6.9   \n",
       "51                                             5.7   \n",
       "\n",
       "   2010__Opioid Overdose Death Rate (Age-Adjusted)  \\\n",
       "47                                             4.8   \n",
       "48                                             8.9   \n",
       "49                                            25.6   \n",
       "50                                             7.3   \n",
       "51                                             8.5   \n",
       "\n",
       "   2011__Opioid Overdose Death Rate (Age-Adjusted)  \\\n",
       "47                                             7.1   \n",
       "48                                             9.9   \n",
       "49                                            31.5   \n",
       "50                                             8.3   \n",
       "51                                             7.5   \n",
       "\n",
       "   2012__Opioid Overdose Death Rate (Age-Adjusted)  \\\n",
       "47                                             6.5   \n",
       "48                                             9.7   \n",
       "49                                            27.1   \n",
       "50                                             8.6   \n",
       "51                                             7.7   \n",
       "\n",
       "   2013__Opioid Overdose Death Rate (Age-Adjusted)  \\\n",
       "47                                             7.6   \n",
       "48                                             8.9   \n",
       "49                                            27.9   \n",
       "50                                            10.6   \n",
       "51                                             8.6   \n",
       "\n",
       "    2014__Opioid Overdose Death Rate (Age-Adjusted)  \\\n",
       "47                                              9.1   \n",
       "48                                              9.2   \n",
       "49                                             31.6   \n",
       "50                                             11.1   \n",
       "51                                              9.3   \n",
       "\n",
       "    2015__Opioid Overdose Death Rate (Age-Adjusted)  \n",
       "47                                              9.9  \n",
       "48                                              9.3  \n",
       "49                                             36.0  \n",
       "50                                             11.2  \n",
       "51                                              7.9  "
      ]
     },
     "execution_count": 11,
     "metadata": {},
     "output_type": "execute_result"
    }
   ],
   "source": [
    "\n",
    "# import datasets\n",
    "csv_OpDeaths = r'Data Files/raw_data-KFF_opioid_death_csv.csv' \n",
    "csv_UrbPop = r'Data Files/pop-urban-pct-historical_cleaned_up.csv'\n",
    "\n",
    "# Read in the csv files, skipping titles and footer notes\n",
    "OpDeaths_df = pd.read_csv(csv_OpDeaths, engine='python', skiprows=[0, 1], skipfooter=13) \n",
    "UrbPop_df = pd.read_csv(csv_UrbPop, engine='python', skipfooter=7)\n",
    "\n",
    "\n",
    "# change NSD and NR into NaN\n",
    "OpDeaths_df = OpDeaths_df.replace(['NSD', 'NR'], np.nan)\n",
    "\n",
    "OpDeaths_df.tail()\n",
    "\n"
   ]
  },
  {
   "cell_type": "code",
   "execution_count": 12,
   "metadata": {},
   "outputs": [
    {
     "data": {
      "text/html": [
       "<div>\n",
       "<style>\n",
       "    .dataframe thead tr:only-child th {\n",
       "        text-align: right;\n",
       "    }\n",
       "\n",
       "    .dataframe thead th {\n",
       "        text-align: left;\n",
       "    }\n",
       "\n",
       "    .dataframe tbody tr th {\n",
       "        vertical-align: top;\n",
       "    }\n",
       "</style>\n",
       "<table border=\"1\" class=\"dataframe\">\n",
       "  <thead>\n",
       "    <tr style=\"text-align: right;\">\n",
       "      <th></th>\n",
       "      <th>FIPS</th>\n",
       "      <th>Location</th>\n",
       "      <th>1900</th>\n",
       "      <th>1910</th>\n",
       "      <th>1920</th>\n",
       "      <th>1930</th>\n",
       "      <th>1940</th>\n",
       "      <th>1950</th>\n",
       "      <th>1960</th>\n",
       "      <th>1970</th>\n",
       "      <th>1980</th>\n",
       "      <th>1990</th>\n",
       "      <th>2000</th>\n",
       "      <th>2010</th>\n",
       "    </tr>\n",
       "  </thead>\n",
       "  <tbody>\n",
       "    <tr>\n",
       "      <th>47</th>\n",
       "      <td>51</td>\n",
       "      <td>Virginia</td>\n",
       "      <td>18.3</td>\n",
       "      <td>23.1</td>\n",
       "      <td>29.2</td>\n",
       "      <td>32.4</td>\n",
       "      <td>35.3</td>\n",
       "      <td>47.0</td>\n",
       "      <td>55.6</td>\n",
       "      <td>63.2</td>\n",
       "      <td>66.0</td>\n",
       "      <td>69.4</td>\n",
       "      <td>73.0</td>\n",
       "      <td>75.5</td>\n",
       "    </tr>\n",
       "    <tr>\n",
       "      <th>48</th>\n",
       "      <td>53</td>\n",
       "      <td>Washington</td>\n",
       "      <td>40.8</td>\n",
       "      <td>53.0</td>\n",
       "      <td>54.8</td>\n",
       "      <td>56.6</td>\n",
       "      <td>53.1</td>\n",
       "      <td>63.2</td>\n",
       "      <td>68.1</td>\n",
       "      <td>73.4</td>\n",
       "      <td>73.5</td>\n",
       "      <td>76.4</td>\n",
       "      <td>82.0</td>\n",
       "      <td>84.1</td>\n",
       "    </tr>\n",
       "    <tr>\n",
       "      <th>49</th>\n",
       "      <td>54</td>\n",
       "      <td>West Virginia</td>\n",
       "      <td>13.1</td>\n",
       "      <td>18.7</td>\n",
       "      <td>25.2</td>\n",
       "      <td>28.4</td>\n",
       "      <td>28.1</td>\n",
       "      <td>34.6</td>\n",
       "      <td>38.2</td>\n",
       "      <td>39.1</td>\n",
       "      <td>36.2</td>\n",
       "      <td>36.1</td>\n",
       "      <td>46.1</td>\n",
       "      <td>48.7</td>\n",
       "    </tr>\n",
       "    <tr>\n",
       "      <th>50</th>\n",
       "      <td>55</td>\n",
       "      <td>Wisconsin</td>\n",
       "      <td>38.2</td>\n",
       "      <td>43.0</td>\n",
       "      <td>47.3</td>\n",
       "      <td>52.9</td>\n",
       "      <td>53.5</td>\n",
       "      <td>57.9</td>\n",
       "      <td>63.8</td>\n",
       "      <td>65.9</td>\n",
       "      <td>64.2</td>\n",
       "      <td>65.7</td>\n",
       "      <td>68.3</td>\n",
       "      <td>70.2</td>\n",
       "    </tr>\n",
       "    <tr>\n",
       "      <th>51</th>\n",
       "      <td>56</td>\n",
       "      <td>Wyoming</td>\n",
       "      <td>28.8</td>\n",
       "      <td>29.6</td>\n",
       "      <td>29.4</td>\n",
       "      <td>31.1</td>\n",
       "      <td>37.3</td>\n",
       "      <td>49.8</td>\n",
       "      <td>56.8</td>\n",
       "      <td>60.5</td>\n",
       "      <td>62.7</td>\n",
       "      <td>65.0</td>\n",
       "      <td>65.1</td>\n",
       "      <td>64.8</td>\n",
       "    </tr>\n",
       "  </tbody>\n",
       "</table>\n",
       "</div>"
      ],
      "text/plain": [
       "    FIPS       Location  1900  1910  1920  1930  1940  1950  1960  1970  1980  \\\n",
       "47    51       Virginia  18.3  23.1  29.2  32.4  35.3  47.0  55.6  63.2  66.0   \n",
       "48    53     Washington  40.8  53.0  54.8  56.6  53.1  63.2  68.1  73.4  73.5   \n",
       "49    54  West Virginia  13.1  18.7  25.2  28.4  28.1  34.6  38.2  39.1  36.2   \n",
       "50    55      Wisconsin  38.2  43.0  47.3  52.9  53.5  57.9  63.8  65.9  64.2   \n",
       "51    56        Wyoming  28.8  29.6  29.4  31.1  37.3  49.8  56.8  60.5  62.7   \n",
       "\n",
       "    1990  2000  2010  \n",
       "47  69.4  73.0  75.5  \n",
       "48  76.4  82.0  84.1  \n",
       "49  36.1  46.1  48.7  \n",
       "50  65.7  68.3  70.2  \n",
       "51  65.0  65.1  64.8  "
      ]
     },
     "execution_count": 12,
     "metadata": {},
     "output_type": "execute_result"
    }
   ],
   "source": [
    "# preparing UrbPop_df for merging and making sure there are 52 entries (50 states + DC + US overall)\n",
    "UrbPop_df = UrbPop_df.rename(columns={'Area Name':'Location'}) \n",
    "UrbPop_df.tail()"
   ]
  },
  {
   "cell_type": "code",
   "execution_count": 13,
   "metadata": {},
   "outputs": [
    {
     "data": {
      "text/html": [
       "<div>\n",
       "<style>\n",
       "    .dataframe thead tr:only-child th {\n",
       "        text-align: right;\n",
       "    }\n",
       "\n",
       "    .dataframe thead th {\n",
       "        text-align: left;\n",
       "    }\n",
       "\n",
       "    .dataframe tbody tr th {\n",
       "        vertical-align: top;\n",
       "    }\n",
       "</style>\n",
       "<table border=\"1\" class=\"dataframe\">\n",
       "  <thead>\n",
       "    <tr style=\"text-align: right;\">\n",
       "      <th></th>\n",
       "      <th>Location</th>\n",
       "      <th>1999__Opioid Overdose Death Rate (Age-Adjusted)</th>\n",
       "      <th>2000__Opioid Overdose Death Rate (Age-Adjusted)</th>\n",
       "      <th>2001__Opioid Overdose Death Rate (Age-Adjusted)</th>\n",
       "      <th>2002__Opioid Overdose Death Rate (Age-Adjusted)</th>\n",
       "      <th>2003__Opioid Overdose Death Rate (Age-Adjusted)</th>\n",
       "      <th>2004__Opioid Overdose Death Rate (Age-Adjusted)</th>\n",
       "      <th>2005__Opioid Overdose Death Rate (Age-Adjusted)</th>\n",
       "      <th>2006__Opioid Overdose Death Rate (Age-Adjusted)</th>\n",
       "      <th>2007__Opioid Overdose Death Rate (Age-Adjusted)</th>\n",
       "      <th>...</th>\n",
       "      <th>1920</th>\n",
       "      <th>1930</th>\n",
       "      <th>1940</th>\n",
       "      <th>1950</th>\n",
       "      <th>1960</th>\n",
       "      <th>1970</th>\n",
       "      <th>1980</th>\n",
       "      <th>1990</th>\n",
       "      <th>2000</th>\n",
       "      <th>2010</th>\n",
       "    </tr>\n",
       "  </thead>\n",
       "  <tbody>\n",
       "    <tr>\n",
       "      <th>0</th>\n",
       "      <td>United States</td>\n",
       "      <td>2.9</td>\n",
       "      <td>3</td>\n",
       "      <td>3.3</td>\n",
       "      <td>4.1</td>\n",
       "      <td>4.5</td>\n",
       "      <td>4.7</td>\n",
       "      <td>5.1</td>\n",
       "      <td>5.9</td>\n",
       "      <td>6.1</td>\n",
       "      <td>...</td>\n",
       "      <td>51.2</td>\n",
       "      <td>56.1</td>\n",
       "      <td>56.5</td>\n",
       "      <td>64.0</td>\n",
       "      <td>69.9</td>\n",
       "      <td>73.6</td>\n",
       "      <td>73.7</td>\n",
       "      <td>75.2</td>\n",
       "      <td>79.0</td>\n",
       "      <td>80.7</td>\n",
       "    </tr>\n",
       "    <tr>\n",
       "      <th>1</th>\n",
       "      <td>Alabama</td>\n",
       "      <td>0.8</td>\n",
       "      <td>1</td>\n",
       "      <td>1.3</td>\n",
       "      <td>1.6</td>\n",
       "      <td>1.1</td>\n",
       "      <td>1.8</td>\n",
       "      <td>1.8</td>\n",
       "      <td>2.7</td>\n",
       "      <td>3.6</td>\n",
       "      <td>...</td>\n",
       "      <td>21.7</td>\n",
       "      <td>28.1</td>\n",
       "      <td>30.2</td>\n",
       "      <td>43.8</td>\n",
       "      <td>54.8</td>\n",
       "      <td>58.6</td>\n",
       "      <td>60.0</td>\n",
       "      <td>60.4</td>\n",
       "      <td>55.4</td>\n",
       "      <td>59.0</td>\n",
       "    </tr>\n",
       "    <tr>\n",
       "      <th>2</th>\n",
       "      <td>Alaska</td>\n",
       "      <td>4</td>\n",
       "      <td>4</td>\n",
       "      <td>NaN</td>\n",
       "      <td>NaN</td>\n",
       "      <td>NaN</td>\n",
       "      <td>NaN</td>\n",
       "      <td>NaN</td>\n",
       "      <td>4.1</td>\n",
       "      <td>NaN</td>\n",
       "      <td>...</td>\n",
       "      <td>5.6</td>\n",
       "      <td>13.2</td>\n",
       "      <td>24.0</td>\n",
       "      <td>26.6</td>\n",
       "      <td>37.9</td>\n",
       "      <td>56.9</td>\n",
       "      <td>64.3</td>\n",
       "      <td>67.5</td>\n",
       "      <td>65.6</td>\n",
       "      <td>66.0</td>\n",
       "    </tr>\n",
       "    <tr>\n",
       "      <th>3</th>\n",
       "      <td>Arizona</td>\n",
       "      <td>4.7</td>\n",
       "      <td>4.8</td>\n",
       "      <td>5.2</td>\n",
       "      <td>6.2</td>\n",
       "      <td>6.4</td>\n",
       "      <td>6.3</td>\n",
       "      <td>6.6</td>\n",
       "      <td>7.8</td>\n",
       "      <td>7.7</td>\n",
       "      <td>...</td>\n",
       "      <td>36.1</td>\n",
       "      <td>34.4</td>\n",
       "      <td>34.8</td>\n",
       "      <td>55.5</td>\n",
       "      <td>74.5</td>\n",
       "      <td>79.6</td>\n",
       "      <td>83.8</td>\n",
       "      <td>87.5</td>\n",
       "      <td>88.2</td>\n",
       "      <td>89.8</td>\n",
       "    </tr>\n",
       "    <tr>\n",
       "      <th>4</th>\n",
       "      <td>Arkansas</td>\n",
       "      <td>1.1</td>\n",
       "      <td>0.8</td>\n",
       "      <td>1.1</td>\n",
       "      <td>3.5</td>\n",
       "      <td>3.4</td>\n",
       "      <td>4.8</td>\n",
       "      <td>4.6</td>\n",
       "      <td>5.1</td>\n",
       "      <td>5.4</td>\n",
       "      <td>...</td>\n",
       "      <td>16.6</td>\n",
       "      <td>20.6</td>\n",
       "      <td>22.2</td>\n",
       "      <td>33.0</td>\n",
       "      <td>42.8</td>\n",
       "      <td>50.0</td>\n",
       "      <td>51.6</td>\n",
       "      <td>53.5</td>\n",
       "      <td>52.5</td>\n",
       "      <td>56.2</td>\n",
       "    </tr>\n",
       "  </tbody>\n",
       "</table>\n",
       "<p>5 rows × 31 columns</p>\n",
       "</div>"
      ],
      "text/plain": [
       "        Location 1999__Opioid Overdose Death Rate (Age-Adjusted)  \\\n",
       "0  United States                                             2.9   \n",
       "1        Alabama                                             0.8   \n",
       "2         Alaska                                               4   \n",
       "3        Arizona                                             4.7   \n",
       "4       Arkansas                                             1.1   \n",
       "\n",
       "  2000__Opioid Overdose Death Rate (Age-Adjusted)  \\\n",
       "0                                               3   \n",
       "1                                               1   \n",
       "2                                               4   \n",
       "3                                             4.8   \n",
       "4                                             0.8   \n",
       "\n",
       "  2001__Opioid Overdose Death Rate (Age-Adjusted)  \\\n",
       "0                                             3.3   \n",
       "1                                             1.3   \n",
       "2                                             NaN   \n",
       "3                                             5.2   \n",
       "4                                             1.1   \n",
       "\n",
       "  2002__Opioid Overdose Death Rate (Age-Adjusted)  \\\n",
       "0                                             4.1   \n",
       "1                                             1.6   \n",
       "2                                             NaN   \n",
       "3                                             6.2   \n",
       "4                                             3.5   \n",
       "\n",
       "  2003__Opioid Overdose Death Rate (Age-Adjusted)  \\\n",
       "0                                             4.5   \n",
       "1                                             1.1   \n",
       "2                                             NaN   \n",
       "3                                             6.4   \n",
       "4                                             3.4   \n",
       "\n",
       "  2004__Opioid Overdose Death Rate (Age-Adjusted)  \\\n",
       "0                                             4.7   \n",
       "1                                             1.8   \n",
       "2                                             NaN   \n",
       "3                                             6.3   \n",
       "4                                             4.8   \n",
       "\n",
       "  2005__Opioid Overdose Death Rate (Age-Adjusted)  \\\n",
       "0                                             5.1   \n",
       "1                                             1.8   \n",
       "2                                             NaN   \n",
       "3                                             6.6   \n",
       "4                                             4.6   \n",
       "\n",
       "  2006__Opioid Overdose Death Rate (Age-Adjusted)  \\\n",
       "0                                             5.9   \n",
       "1                                             2.7   \n",
       "2                                             4.1   \n",
       "3                                             7.8   \n",
       "4                                             5.1   \n",
       "\n",
       "  2007__Opioid Overdose Death Rate (Age-Adjusted)  ...   1920  1930  1940  \\\n",
       "0                                             6.1  ...   51.2  56.1  56.5   \n",
       "1                                             3.6  ...   21.7  28.1  30.2   \n",
       "2                                             NaN  ...    5.6  13.2  24.0   \n",
       "3                                             7.7  ...   36.1  34.4  34.8   \n",
       "4                                             5.4  ...   16.6  20.6  22.2   \n",
       "\n",
       "   1950  1960  1970  1980  1990  2000  2010  \n",
       "0  64.0  69.9  73.6  73.7  75.2  79.0  80.7  \n",
       "1  43.8  54.8  58.6  60.0  60.4  55.4  59.0  \n",
       "2  26.6  37.9  56.9  64.3  67.5  65.6  66.0  \n",
       "3  55.5  74.5  79.6  83.8  87.5  88.2  89.8  \n",
       "4  33.0  42.8  50.0  51.6  53.5  52.5  56.2  \n",
       "\n",
       "[5 rows x 31 columns]"
      ]
     },
     "execution_count": 13,
     "metadata": {},
     "output_type": "execute_result"
    }
   ],
   "source": [
    "# merging UrbPop_df and OpDeaths_df. This ensures that the data matches for each state. \n",
    "OpDeaths_Urb_df = pd.merge(OpDeaths_df, UrbPop_df, on='Location')\n",
    "\n",
    "OpDeaths_Urb_df.head()"
   ]
  },
  {
   "cell_type": "code",
   "execution_count": 40,
   "metadata": {},
   "outputs": [
    {
     "data": {
      "text/html": [
       "<div>\n",
       "<style>\n",
       "    .dataframe thead tr:only-child th {\n",
       "        text-align: right;\n",
       "    }\n",
       "\n",
       "    .dataframe thead th {\n",
       "        text-align: left;\n",
       "    }\n",
       "\n",
       "    .dataframe tbody tr th {\n",
       "        vertical-align: top;\n",
       "    }\n",
       "</style>\n",
       "<table border=\"1\" class=\"dataframe\">\n",
       "  <thead>\n",
       "    <tr style=\"text-align: right;\">\n",
       "      <th></th>\n",
       "      <th>Location</th>\n",
       "      <th>2010__Opioid Overdose Death Rate (Age-Adjusted)</th>\n",
       "      <th>2010</th>\n",
       "    </tr>\n",
       "  </thead>\n",
       "  <tbody>\n",
       "    <tr>\n",
       "      <th>1</th>\n",
       "      <td>Alabama</td>\n",
       "      <td>4.1</td>\n",
       "      <td>59.0</td>\n",
       "    </tr>\n",
       "    <tr>\n",
       "      <th>2</th>\n",
       "      <td>Alaska</td>\n",
       "      <td>8.7</td>\n",
       "      <td>66.0</td>\n",
       "    </tr>\n",
       "    <tr>\n",
       "      <th>3</th>\n",
       "      <td>Arizona</td>\n",
       "      <td>9.9</td>\n",
       "      <td>89.8</td>\n",
       "    </tr>\n",
       "    <tr>\n",
       "      <th>4</th>\n",
       "      <td>Arkansas</td>\n",
       "      <td>6.8</td>\n",
       "      <td>56.2</td>\n",
       "    </tr>\n",
       "    <tr>\n",
       "      <th>5</th>\n",
       "      <td>California</td>\n",
       "      <td>5.0</td>\n",
       "      <td>95.0</td>\n",
       "    </tr>\n",
       "  </tbody>\n",
       "</table>\n",
       "</div>"
      ],
      "text/plain": [
       "     Location  2010__Opioid Overdose Death Rate (Age-Adjusted)  2010\n",
       "1     Alabama                                              4.1  59.0\n",
       "2      Alaska                                              8.7  66.0\n",
       "3     Arizona                                              9.9  89.8\n",
       "4    Arkansas                                              6.8  56.2\n",
       "5  California                                              5.0  95.0"
      ]
     },
     "execution_count": 40,
     "metadata": {},
     "output_type": "execute_result"
    }
   ],
   "source": [
    "# dfs for the years 2000 and 2010 (the years where census data is available):\n",
    "# df Opioid deaths 2000\n",
    "Op_2000_df = pd.DataFrame(\\\n",
    "                          data = OpDeaths_Urb_df,\\\n",
    "                          columns=['Location', '2000__Opioid Overdose Death Rate (Age-Adjusted)', '2000'])\n",
    "Op_2000_df = Op_2000_df.dropna()\n",
    "Op_2000_df = Op_2000_df.drop(Op_2000_df.index[0]) #dropping US total\n",
    "# For some reason, Opioid Death rate is not numeric. Change to numeric so scatter plot works \n",
    "Op_2000_df['2000__Opioid Overdose Death Rate (Age-Adjusted)'] = Op_2000_df['2000__Opioid Overdose Death Rate (Age-Adjusted)'].apply(pd.to_numeric)\n",
    "\n",
    "# df Opioid deaths 2010\n",
    "Op_2010_df = pd.DataFrame(\\\n",
    "                          data = OpDeaths_Urb_df,\\\n",
    "                          columns=['Location', '2010__Opioid Overdose Death Rate (Age-Adjusted)', '2010'])\n",
    "Op_2010_df = Op_2010_df.dropna()\n",
    "Op_2010_df = Op_2010_df.drop(Op_2010_df.index[0]) #dropping US total\n",
    "# For some reason, Opioid Death rate is not numeric. Change to numeric so scatter plot works \n",
    "Op_2010_df['2010__Opioid Overdose Death Rate (Age-Adjusted)'] = Op_2010_df['2010__Opioid Overdose Death Rate (Age-Adjusted)'].apply(pd.to_numeric)\n",
    "\n",
    "Op_2010_df.head()"
   ]
  },
  {
   "cell_type": "code",
   "execution_count": 43,
   "metadata": {},
   "outputs": [
    {
     "data": {
      "image/png": "[encoded data removed]",
      "text/plain": [
       "<matplotlib.figure.Figure at 0x1bb7e757668>"
      ]
     },
     "metadata": {},
     "output_type": "display_data"
    }
   ],
   "source": [
    "# scatterplot: Urban population % by state in year 2000 on opioid overdose death rate in year 2000 \n",
    "\n",
    "plt.figure(figsize=(8, 8))\n",
    "plt.scatter(x=Op_2000_df['2000'], y=Op_2000_df['2000__Opioid Overdose Death Rate (Age-Adjusted)'])\n",
    "\n",
    "# set titles and labels\n",
    "plt.title('Opioid Deaths and Urbanization in the Year 2000')\n",
    "plt.xlabel('Urban population % by state')\n",
    "plt.ylabel('Opioid Overdose Death Rate per 100,000 (Age-Adjusted)')\n",
    "plt.show()"
   ]
  },
  {
   "cell_type": "code",
   "execution_count": 44,
   "metadata": {},
   "outputs": [
    {
     "data": {
      "image/png": "[encoded data removed]",
      "text/plain": [
       "<matplotlib.figure.Figure at 0x1bb7e8b5b70>"
      ]
     },
     "metadata": {},
     "output_type": "display_data"
    }
   ],
   "source": [
    "# scatterplot: Urban population % by state in year 2010 on opioid overdose death rate in year 2010 \n",
    "plt.figure(figsize=(8, 8))\n",
    "plt.scatter(x=Op_2010_df['2010'], y=Op_2010_df['2010__Opioid Overdose Death Rate (Age-Adjusted)'], c='black')\n",
    "\n",
    "# set titles and labels\n",
    "plt.title('Opioid Deaths and Urbanization in the Year 2010')\n",
    "plt.xlabel('Urban population % by state')\n",
    "plt.ylabel('Opioid Overdose Death Rate per 100,000 (Age-Adjusted)')\n",
    "plt.show()"
   ]
  },
  {
   "cell_type": "markdown",
   "metadata": {},
   "source": [
    "#### Research Question 4"
   ]
  },
  {
   "cell_type": "code",
   "execution_count": null,
   "metadata": {
    "collapsed": true
   },
   "outputs": [],
   "source": []
  },
  {
   "cell_type": "code",
   "execution_count": null,
   "metadata": {
    "collapsed": true
   },
   "outputs": [],
   "source": []
  }
 ],
 "metadata": {
  "celltoolbar": "Raw Cell Format",
  "kernelspec": {
   "display_name": "Python (PythonData)",
   "language": "python",
   "name": "pythondata"
  },
  "language_info": {
   "codemirror_mode": {
    "name": "ipython",
    "version": 3
   },
   "file_extension": ".py",
   "mimetype": "text/x-python",
   "name": "python",
   "nbconvert_exporter": "python",
   "pygments_lexer": "ipython3",
   "version": "3.6.3"
  }
 },
 "nbformat": 4,
 "nbformat_minor": 2
}
