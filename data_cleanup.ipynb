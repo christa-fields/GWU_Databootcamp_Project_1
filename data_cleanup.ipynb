{
 "cells": [
  {
   "cell_type": "markdown",
   "metadata": {},
   "source": [
    "# Team One: The Opioid Crisis in the United States - Data Cleanup"
   ]
  },
  {
   "cell_type": "markdown",
   "metadata": {},
   "source": [
    "###### Development team notes and caveats:\n",
    "* Question 1: Data was extracted from https://wonder.cdc.gov/   Rather than extracting data in one large chunk and disassembling with code, I downloaded into individual tab separated text files. This was becuase I noticed some anomalies when extracting data from Wonder in large comingled batches; most likely due to the grouping functionality used by the Wonder tool. If I can find and access the raw data behind the Wonder site, I will modify this notebook.\n",
    "* Question 2:\n",
    "* Question 3:\n",
    "* Question 4:"
   ]
  },
  {
   "cell_type": "markdown",
   "metadata": {},
   "source": [
    "#### Dependencies"
   ]
  },
  {
   "cell_type": "code",
   "execution_count": 1,
   "metadata": {
    "collapsed": true
   },
   "outputs": [],
   "source": [
    "import os                                                                    # os library"
   ]
  },
  {
   "cell_type": "code",
   "execution_count": 2,
   "metadata": {
    "collapsed": true
   },
   "outputs": [],
   "source": [
    "import numpy as np                                                           # numpy library"
   ]
  },
  {
   "cell_type": "code",
   "execution_count": 3,
   "metadata": {
    "collapsed": true
   },
   "outputs": [],
   "source": [
    "import pandas as pd                                                          # pandas library"
   ]
  },
  {
   "cell_type": "code",
   "execution_count": 4,
   "metadata": {
    "collapsed": true
   },
   "outputs": [],
   "source": [
    "import json                                                                  # json library"
   ]
  },
  {
   "cell_type": "markdown",
   "metadata": {},
   "source": [
    "#### Research Question 1: clean up raw data and export to csv or JSON for use by main notebook"
   ]
  },
  {
   "cell_type": "code",
   "execution_count": 5,
   "metadata": {
    "collapsed": true
   },
   "outputs": [],
   "source": [
    "filename = 'Q1DS1_Year.txt'                                                  # 1st raw data file\n",
    "rawdata_file = os.path.join(\".\", \"Data Files\", \"Question_1\", filename)       # creates path to read data\n",
    "q1ds1_df = pd.read_csv(rawdata_file, sep='\\t')                               # reads data from file"
   ]
  },
  {
   "cell_type": "code",
   "execution_count": 6,
   "metadata": {},
   "outputs": [
    {
     "data": {
      "text/html": [
       "<div>\n",
       "<style>\n",
       "    .dataframe thead tr:only-child th {\n",
       "        text-align: right;\n",
       "    }\n",
       "\n",
       "    .dataframe thead th {\n",
       "        text-align: left;\n",
       "    }\n",
       "\n",
       "    .dataframe tbody tr th {\n",
       "        vertical-align: top;\n",
       "    }\n",
       "</style>\n",
       "<table border=\"1\" class=\"dataframe\">\n",
       "  <thead>\n",
       "    <tr style=\"text-align: right;\">\n",
       "      <th></th>\n",
       "      <th>Notes</th>\n",
       "      <th>Year</th>\n",
       "      <th>Year Code</th>\n",
       "      <th>Deaths</th>\n",
       "      <th>Population</th>\n",
       "      <th>Crude Rate</th>\n",
       "    </tr>\n",
       "  </thead>\n",
       "  <tbody>\n",
       "    <tr>\n",
       "      <th>0</th>\n",
       "      <td>NaN</td>\n",
       "      <td>1999.0</td>\n",
       "      <td>1999.0</td>\n",
       "      <td>5594.0</td>\n",
       "      <td>279040168.0</td>\n",
       "      <td>2.0</td>\n",
       "    </tr>\n",
       "    <tr>\n",
       "      <th>1</th>\n",
       "      <td>NaN</td>\n",
       "      <td>2000.0</td>\n",
       "      <td>2000.0</td>\n",
       "      <td>6011.0</td>\n",
       "      <td>281421906.0</td>\n",
       "      <td>2.1</td>\n",
       "    </tr>\n",
       "    <tr>\n",
       "      <th>2</th>\n",
       "      <td>NaN</td>\n",
       "      <td>2001.0</td>\n",
       "      <td>2001.0</td>\n",
       "      <td>7088.0</td>\n",
       "      <td>284968955.0</td>\n",
       "      <td>2.5</td>\n",
       "    </tr>\n",
       "    <tr>\n",
       "      <th>3</th>\n",
       "      <td>NaN</td>\n",
       "      <td>2002.0</td>\n",
       "      <td>2002.0</td>\n",
       "      <td>9318.0</td>\n",
       "      <td>287625193.0</td>\n",
       "      <td>3.2</td>\n",
       "    </tr>\n",
       "    <tr>\n",
       "      <th>4</th>\n",
       "      <td>NaN</td>\n",
       "      <td>2003.0</td>\n",
       "      <td>2003.0</td>\n",
       "      <td>10389.0</td>\n",
       "      <td>290107933.0</td>\n",
       "      <td>3.6</td>\n",
       "    </tr>\n",
       "  </tbody>\n",
       "</table>\n",
       "</div>"
      ],
      "text/plain": [
       "  Notes    Year  Year Code   Deaths   Population  Crude Rate\n",
       "0   NaN  1999.0     1999.0   5594.0  279040168.0         2.0\n",
       "1   NaN  2000.0     2000.0   6011.0  281421906.0         2.1\n",
       "2   NaN  2001.0     2001.0   7088.0  284968955.0         2.5\n",
       "3   NaN  2002.0     2002.0   9318.0  287625193.0         3.2\n",
       "4   NaN  2003.0     2003.0  10389.0  290107933.0         3.6"
      ]
     },
     "execution_count": 6,
     "metadata": {},
     "output_type": "execute_result"
    }
   ],
   "source": [
    "q1ds1_df.head()                                                              # displays raw data"
   ]
  },
  {
   "cell_type": "code",
   "execution_count": 7,
   "metadata": {
    "collapsed": true
   },
   "outputs": [],
   "source": [
    "q1ds1_df.drop('Notes', axis=1, inplace=True)                                 # drops Notes column\n",
    "q1ds1_df.dropna(axis=0, how='any', inplace=True)                             # drops rows with NaN\n",
    "q1ds1_df['Year'] = q1ds1_df['Year'].astype(int)                              # casts datatypes for columns\n",
    "q1ds1_df['Year Code'] = q1ds1_df['Year Code'].astype(int)\n",
    "q1ds1_df['Year Code'] = q1ds1_df['Year Code'].astype(str)\n",
    "q1ds1_df['Deaths'] = q1ds1_df['Deaths'].astype(int)\n",
    "q1ds1_df['Population'] = q1ds1_df['Population'].astype(int)\n",
    "\n",
    "# Calculates death rate per 100,000 of population (Deaths / Population) * 100,000\n",
    "q1ds1_df['Death Rate'] = q1ds1_df['Deaths'] /  q1ds1_df['Population'] * 100000\n",
    "q1ds1_df.drop('Crude Rate', axis=1, inplace=True)                            # drops Crude Rate column\n",
    "q1ds1_df.set_index('Year', inplace=True)                                     # reindexes by Year"
   ]
  },
  {
   "cell_type": "code",
   "execution_count": 8,
   "metadata": {},
   "outputs": [
    {
     "data": {
      "text/html": [
       "<div>\n",
       "<style>\n",
       "    .dataframe thead tr:only-child th {\n",
       "        text-align: right;\n",
       "    }\n",
       "\n",
       "    .dataframe thead th {\n",
       "        text-align: left;\n",
       "    }\n",
       "\n",
       "    .dataframe tbody tr th {\n",
       "        vertical-align: top;\n",
       "    }\n",
       "</style>\n",
       "<table border=\"1\" class=\"dataframe\">\n",
       "  <thead>\n",
       "    <tr style=\"text-align: right;\">\n",
       "      <th></th>\n",
       "      <th>Year Code</th>\n",
       "      <th>Deaths</th>\n",
       "      <th>Population</th>\n",
       "      <th>Death Rate</th>\n",
       "    </tr>\n",
       "    <tr>\n",
       "      <th>Year</th>\n",
       "      <th></th>\n",
       "      <th></th>\n",
       "      <th></th>\n",
       "      <th></th>\n",
       "    </tr>\n",
       "  </thead>\n",
       "  <tbody>\n",
       "    <tr>\n",
       "      <th>1999</th>\n",
       "      <td>1999</td>\n",
       "      <td>5594</td>\n",
       "      <td>279040168</td>\n",
       "      <td>2.004729</td>\n",
       "    </tr>\n",
       "    <tr>\n",
       "      <th>2000</th>\n",
       "      <td>2000</td>\n",
       "      <td>6011</td>\n",
       "      <td>281421906</td>\n",
       "      <td>2.135939</td>\n",
       "    </tr>\n",
       "    <tr>\n",
       "      <th>2001</th>\n",
       "      <td>2001</td>\n",
       "      <td>7088</td>\n",
       "      <td>284968955</td>\n",
       "      <td>2.487288</td>\n",
       "    </tr>\n",
       "    <tr>\n",
       "      <th>2002</th>\n",
       "      <td>2002</td>\n",
       "      <td>9318</td>\n",
       "      <td>287625193</td>\n",
       "      <td>3.239633</td>\n",
       "    </tr>\n",
       "    <tr>\n",
       "      <th>2003</th>\n",
       "      <td>2003</td>\n",
       "      <td>10389</td>\n",
       "      <td>290107933</td>\n",
       "      <td>3.581081</td>\n",
       "    </tr>\n",
       "  </tbody>\n",
       "</table>\n",
       "</div>"
      ],
      "text/plain": [
       "     Year Code  Deaths  Population  Death Rate\n",
       "Year                                          \n",
       "1999      1999    5594   279040168    2.004729\n",
       "2000      2000    6011   281421906    2.135939\n",
       "2001      2001    7088   284968955    2.487288\n",
       "2002      2002    9318   287625193    3.239633\n",
       "2003      2003   10389   290107933    3.581081"
      ]
     },
     "execution_count": 8,
     "metadata": {},
     "output_type": "execute_result"
    }
   ],
   "source": [
    "q1ds1_df.head()                                                              # displays cleaned dataframe"
   ]
  },
  {
   "cell_type": "code",
   "execution_count": 9,
   "metadata": {
    "collapsed": true
   },
   "outputs": [],
   "source": [
    "filename = 'Q1DS1.csv'                                                       # 1st cleaned data file\n",
    "csv_file = os.path.join(\".\", \"Data Files\", \"Question_1\", filename)           # creates path to write data\n",
    "q1ds1_df.to_csv(csv_file)                                                    # writes cleaned data to csv"
   ]
  },
  {
   "cell_type": "markdown",
   "metadata": {},
   "source": [
    "##### ---------------------------------------------------------------------------------------------------------------------------------------------------------------------------"
   ]
  },
  {
   "cell_type": "code",
   "execution_count": 10,
   "metadata": {
    "collapsed": true
   },
   "outputs": [],
   "source": [
    "filename = 'Q1DS2_Sanity.txt'                                                # 2nd raw data file\n",
    "rawdata_file = os.path.join(\".\", \"Data Files\", \"Question_1\", filename)       # creates path to read data\n",
    "q1ds2_df = pd.read_csv(rawdata_file, sep='\\t')                               # reads data from file"
   ]
  },
  {
   "cell_type": "code",
   "execution_count": 11,
   "metadata": {},
   "outputs": [
    {
     "data": {
      "text/html": [
       "<div>\n",
       "<style>\n",
       "    .dataframe thead tr:only-child th {\n",
       "        text-align: right;\n",
       "    }\n",
       "\n",
       "    .dataframe thead th {\n",
       "        text-align: left;\n",
       "    }\n",
       "\n",
       "    .dataframe tbody tr th {\n",
       "        vertical-align: top;\n",
       "    }\n",
       "</style>\n",
       "<table border=\"1\" class=\"dataframe\">\n",
       "  <thead>\n",
       "    <tr style=\"text-align: right;\">\n",
       "      <th></th>\n",
       "      <th>Notes</th>\n",
       "      <th>Year</th>\n",
       "      <th>Year Code</th>\n",
       "      <th>Deaths</th>\n",
       "      <th>Population</th>\n",
       "      <th>Crude Rate</th>\n",
       "    </tr>\n",
       "  </thead>\n",
       "  <tbody>\n",
       "    <tr>\n",
       "      <th>0</th>\n",
       "      <td>NaN</td>\n",
       "      <td>1999.0</td>\n",
       "      <td>1999.0</td>\n",
       "      <td>101.0</td>\n",
       "      <td>279040168.0</td>\n",
       "      <td>0.0</td>\n",
       "    </tr>\n",
       "    <tr>\n",
       "      <th>1</th>\n",
       "      <td>NaN</td>\n",
       "      <td>2000.0</td>\n",
       "      <td>2000.0</td>\n",
       "      <td>92.0</td>\n",
       "      <td>281421906.0</td>\n",
       "      <td>0.0</td>\n",
       "    </tr>\n",
       "    <tr>\n",
       "      <th>2</th>\n",
       "      <td>NaN</td>\n",
       "      <td>2001.0</td>\n",
       "      <td>2001.0</td>\n",
       "      <td>98.0</td>\n",
       "      <td>284968955.0</td>\n",
       "      <td>0.0</td>\n",
       "    </tr>\n",
       "    <tr>\n",
       "      <th>3</th>\n",
       "      <td>NaN</td>\n",
       "      <td>2002.0</td>\n",
       "      <td>2002.0</td>\n",
       "      <td>164.0</td>\n",
       "      <td>287625193.0</td>\n",
       "      <td>0.1</td>\n",
       "    </tr>\n",
       "    <tr>\n",
       "      <th>4</th>\n",
       "      <td>NaN</td>\n",
       "      <td>2003.0</td>\n",
       "      <td>2003.0</td>\n",
       "      <td>121.0</td>\n",
       "      <td>290107933.0</td>\n",
       "      <td>0.0</td>\n",
       "    </tr>\n",
       "  </tbody>\n",
       "</table>\n",
       "</div>"
      ],
      "text/plain": [
       "  Notes    Year  Year Code  Deaths   Population  Crude Rate\n",
       "0   NaN  1999.0     1999.0   101.0  279040168.0         0.0\n",
       "1   NaN  2000.0     2000.0    92.0  281421906.0         0.0\n",
       "2   NaN  2001.0     2001.0    98.0  284968955.0         0.0\n",
       "3   NaN  2002.0     2002.0   164.0  287625193.0         0.1\n",
       "4   NaN  2003.0     2003.0   121.0  290107933.0         0.0"
      ]
     },
     "execution_count": 11,
     "metadata": {},
     "output_type": "execute_result"
    }
   ],
   "source": [
    "q1ds2_df.head()                                                              # displays raw data"
   ]
  },
  {
   "cell_type": "code",
   "execution_count": 12,
   "metadata": {
    "collapsed": true
   },
   "outputs": [],
   "source": [
    "q1ds2_df.drop('Notes', axis=1, inplace=True)                                 # drops Notes column\n",
    "q1ds2_df.dropna(axis=0, how='any', inplace=True)                             # drops rows with NaN\n",
    "q1ds2_df['Year'] = q1ds2_df['Year'].astype(int)                              # casts datatypes for columns\n",
    "q1ds2_df['Year Code'] = q1ds2_df['Year Code'].astype(int)\n",
    "q1ds2_df['Year Code'] = q1ds2_df['Year Code'].astype(str)\n",
    "q1ds2_df['Deaths'] = q1ds2_df['Deaths'].astype(int)\n",
    "q1ds2_df['Population'] = q1ds2_df['Population'].astype(int)\n",
    "\n",
    "# Calculates death rate per 100,000 of population (Deaths / Population) * 100,000\n",
    "q1ds2_df['Death Rate'] = q1ds2_df['Deaths'] /  q1ds2_df['Population'] * 100000\n",
    "q1ds2_df.drop('Crude Rate', axis=1, inplace=True)                            # drops Crude Rate column\n",
    "q1ds2_df.set_index('Year', inplace=True)                                     # reindexes by Year"
   ]
  },
  {
   "cell_type": "code",
   "execution_count": 13,
   "metadata": {},
   "outputs": [
    {
     "data": {
      "text/html": [
       "<div>\n",
       "<style>\n",
       "    .dataframe thead tr:only-child th {\n",
       "        text-align: right;\n",
       "    }\n",
       "\n",
       "    .dataframe thead th {\n",
       "        text-align: left;\n",
       "    }\n",
       "\n",
       "    .dataframe tbody tr th {\n",
       "        vertical-align: top;\n",
       "    }\n",
       "</style>\n",
       "<table border=\"1\" class=\"dataframe\">\n",
       "  <thead>\n",
       "    <tr style=\"text-align: right;\">\n",
       "      <th></th>\n",
       "      <th>Year Code</th>\n",
       "      <th>Deaths</th>\n",
       "      <th>Population</th>\n",
       "      <th>Death Rate</th>\n",
       "    </tr>\n",
       "    <tr>\n",
       "      <th>Year</th>\n",
       "      <th></th>\n",
       "      <th></th>\n",
       "      <th></th>\n",
       "      <th></th>\n",
       "    </tr>\n",
       "  </thead>\n",
       "  <tbody>\n",
       "    <tr>\n",
       "      <th>1999</th>\n",
       "      <td>1999</td>\n",
       "      <td>101</td>\n",
       "      <td>279040168</td>\n",
       "      <td>0.036196</td>\n",
       "    </tr>\n",
       "    <tr>\n",
       "      <th>2000</th>\n",
       "      <td>2000</td>\n",
       "      <td>92</td>\n",
       "      <td>281421906</td>\n",
       "      <td>0.032691</td>\n",
       "    </tr>\n",
       "    <tr>\n",
       "      <th>2001</th>\n",
       "      <td>2001</td>\n",
       "      <td>98</td>\n",
       "      <td>284968955</td>\n",
       "      <td>0.034390</td>\n",
       "    </tr>\n",
       "    <tr>\n",
       "      <th>2002</th>\n",
       "      <td>2002</td>\n",
       "      <td>164</td>\n",
       "      <td>287625193</td>\n",
       "      <td>0.057019</td>\n",
       "    </tr>\n",
       "    <tr>\n",
       "      <th>2003</th>\n",
       "      <td>2003</td>\n",
       "      <td>121</td>\n",
       "      <td>290107933</td>\n",
       "      <td>0.041709</td>\n",
       "    </tr>\n",
       "  </tbody>\n",
       "</table>\n",
       "</div>"
      ],
      "text/plain": [
       "     Year Code  Deaths  Population  Death Rate\n",
       "Year                                          \n",
       "1999      1999     101   279040168    0.036196\n",
       "2000      2000      92   281421906    0.032691\n",
       "2001      2001      98   284968955    0.034390\n",
       "2002      2002     164   287625193    0.057019\n",
       "2003      2003     121   290107933    0.041709"
      ]
     },
     "execution_count": 13,
     "metadata": {},
     "output_type": "execute_result"
    }
   ],
   "source": [
    "q1ds2_df.head()                                                              # displays cleaned dataframe"
   ]
  },
  {
   "cell_type": "code",
   "execution_count": 14,
   "metadata": {
    "collapsed": true
   },
   "outputs": [],
   "source": [
    "filename = 'Q1DS2.csv'                                                       # 2nd cleaned data file\n",
    "csv_file = os.path.join(\".\", \"Data Files\", \"Question_1\", filename)           # creates path to write data\n",
    "q1ds2_df.to_csv(csv_file)                                                    # writes cleaned data to csv"
   ]
  },
  {
   "cell_type": "markdown",
   "metadata": {},
   "source": [
    "##### ---------------------------------------------------------------------------------------------------------------------------------------------------------------------------"
   ]
  },
  {
   "cell_type": "code",
   "execution_count": 15,
   "metadata": {
    "collapsed": true
   },
   "outputs": [],
   "source": [
    "filename = 'Q1DS3_Gender.txt'                                                # 3rd raw data file\n",
    "rawdata_file = os.path.join(\".\", \"Data Files\", \"Question_1\", filename)       # creates path to read data\n",
    "q1ds3_df = pd.read_csv(rawdata_file, sep='\\t')                               # reads data from file"
   ]
  },
  {
   "cell_type": "code",
   "execution_count": 16,
   "metadata": {},
   "outputs": [
    {
     "data": {
      "text/html": [
       "<div>\n",
       "<style>\n",
       "    .dataframe thead tr:only-child th {\n",
       "        text-align: right;\n",
       "    }\n",
       "\n",
       "    .dataframe thead th {\n",
       "        text-align: left;\n",
       "    }\n",
       "\n",
       "    .dataframe tbody tr th {\n",
       "        vertical-align: top;\n",
       "    }\n",
       "</style>\n",
       "<table border=\"1\" class=\"dataframe\">\n",
       "  <thead>\n",
       "    <tr style=\"text-align: right;\">\n",
       "      <th></th>\n",
       "      <th>Notes</th>\n",
       "      <th>Gender</th>\n",
       "      <th>Gender Code</th>\n",
       "      <th>Deaths</th>\n",
       "      <th>Population</th>\n",
       "      <th>Crude Rate</th>\n",
       "      <th>Age Adjusted Rate</th>\n",
       "    </tr>\n",
       "  </thead>\n",
       "  <tbody>\n",
       "    <tr>\n",
       "      <th>0</th>\n",
       "      <td>NaN</td>\n",
       "      <td>Female</td>\n",
       "      <td>F</td>\n",
       "      <td>109681.0</td>\n",
       "      <td>2.763844e+09</td>\n",
       "      <td>4.0</td>\n",
       "      <td>4.0</td>\n",
       "    </tr>\n",
       "    <tr>\n",
       "      <th>1</th>\n",
       "      <td>NaN</td>\n",
       "      <td>Male</td>\n",
       "      <td>M</td>\n",
       "      <td>204081.0</td>\n",
       "      <td>2.671903e+09</td>\n",
       "      <td>7.6</td>\n",
       "      <td>7.6</td>\n",
       "    </tr>\n",
       "    <tr>\n",
       "      <th>2</th>\n",
       "      <td>Total</td>\n",
       "      <td>NaN</td>\n",
       "      <td>NaN</td>\n",
       "      <td>313762.0</td>\n",
       "      <td>5.435746e+09</td>\n",
       "      <td>5.8</td>\n",
       "      <td>5.8</td>\n",
       "    </tr>\n",
       "    <tr>\n",
       "      <th>3</th>\n",
       "      <td>---</td>\n",
       "      <td>NaN</td>\n",
       "      <td>NaN</td>\n",
       "      <td>NaN</td>\n",
       "      <td>NaN</td>\n",
       "      <td>NaN</td>\n",
       "      <td>NaN</td>\n",
       "    </tr>\n",
       "    <tr>\n",
       "      <th>4</th>\n",
       "      <td>Dataset: Multiple Cause of Death, 1999-2016</td>\n",
       "      <td>NaN</td>\n",
       "      <td>NaN</td>\n",
       "      <td>NaN</td>\n",
       "      <td>NaN</td>\n",
       "      <td>NaN</td>\n",
       "      <td>NaN</td>\n",
       "    </tr>\n",
       "  </tbody>\n",
       "</table>\n",
       "</div>"
      ],
      "text/plain": [
       "                                         Notes  Gender Gender Code    Deaths  \\\n",
       "0                                          NaN  Female           F  109681.0   \n",
       "1                                          NaN    Male           M  204081.0   \n",
       "2                                        Total     NaN         NaN  313762.0   \n",
       "3                                          ---     NaN         NaN       NaN   \n",
       "4  Dataset: Multiple Cause of Death, 1999-2016     NaN         NaN       NaN   \n",
       "\n",
       "     Population  Crude Rate  Age Adjusted Rate  \n",
       "0  2.763844e+09         4.0                4.0  \n",
       "1  2.671903e+09         7.6                7.6  \n",
       "2  5.435746e+09         5.8                5.8  \n",
       "3           NaN         NaN                NaN  \n",
       "4           NaN         NaN                NaN  "
      ]
     },
     "execution_count": 16,
     "metadata": {},
     "output_type": "execute_result"
    }
   ],
   "source": [
    "q1ds3_df.head()                                                              # displays raw data"
   ]
  },
  {
   "cell_type": "code",
   "execution_count": 17,
   "metadata": {
    "collapsed": true
   },
   "outputs": [],
   "source": [
    "q1ds3_df.drop('Notes', axis=1, inplace=True)                                 # drops Notes column\n",
    "q1ds3_df.dropna(axis=0, how='any', inplace=True)                             # drops rows with NaN\n",
    "q1ds3_df['Deaths'] = q1ds3_df['Deaths'].astype(int)                          # casts datatypes for columns\n",
    "\n",
    "# Calculates death rate per 100,000 of population (Deaths / Population) * 100,000\n",
    "q1ds3_df['Death Rate'] = q1ds3_df['Deaths'] /  q1ds3_df['Population'] * 100000\n",
    "q1ds3_df.drop('Crude Rate', axis=1, inplace=True)                            # drops Crude Rate column\n",
    "q1ds3_df.drop('Age Adjusted Rate', axis=1, inplace=True)                     # drops Age Adj rate column"
   ]
  },
  {
   "cell_type": "code",
   "execution_count": 18,
   "metadata": {},
   "outputs": [
    {
     "data": {
      "text/html": [
       "<div>\n",
       "<style>\n",
       "    .dataframe thead tr:only-child th {\n",
       "        text-align: right;\n",
       "    }\n",
       "\n",
       "    .dataframe thead th {\n",
       "        text-align: left;\n",
       "    }\n",
       "\n",
       "    .dataframe tbody tr th {\n",
       "        vertical-align: top;\n",
       "    }\n",
       "</style>\n",
       "<table border=\"1\" class=\"dataframe\">\n",
       "  <thead>\n",
       "    <tr style=\"text-align: right;\">\n",
       "      <th></th>\n",
       "      <th>Gender</th>\n",
       "      <th>Gender Code</th>\n",
       "      <th>Deaths</th>\n",
       "      <th>Population</th>\n",
       "      <th>Death Rate</th>\n",
       "    </tr>\n",
       "  </thead>\n",
       "  <tbody>\n",
       "    <tr>\n",
       "      <th>0</th>\n",
       "      <td>Female</td>\n",
       "      <td>F</td>\n",
       "      <td>109681</td>\n",
       "      <td>2.763844e+09</td>\n",
       "      <td>3.968422</td>\n",
       "    </tr>\n",
       "    <tr>\n",
       "      <th>1</th>\n",
       "      <td>Male</td>\n",
       "      <td>M</td>\n",
       "      <td>204081</td>\n",
       "      <td>2.671903e+09</td>\n",
       "      <td>7.638041</td>\n",
       "    </tr>\n",
       "  </tbody>\n",
       "</table>\n",
       "</div>"
      ],
      "text/plain": [
       "   Gender Gender Code  Deaths    Population  Death Rate\n",
       "0  Female           F  109681  2.763844e+09    3.968422\n",
       "1    Male           M  204081  2.671903e+09    7.638041"
      ]
     },
     "execution_count": 18,
     "metadata": {},
     "output_type": "execute_result"
    }
   ],
   "source": [
    "q1ds3_df.head()                                                              # displays cleaned dataframe"
   ]
  },
  {
   "cell_type": "code",
   "execution_count": 19,
   "metadata": {
    "collapsed": true
   },
   "outputs": [],
   "source": [
    "filename = 'Q1DS3.csv'                                                       # 3rd cleaned data file\n",
    "csv_file = os.path.join(\".\", \"Data Files\", \"Question_1\", filename)           # creates path to write data\n",
    "q1ds3_df.to_csv(csv_file)                                                    # writes cleaned data to csv"
   ]
  },
  {
   "cell_type": "markdown",
   "metadata": {},
   "source": [
    "##### ---------------------------------------------------------------------------------------------------------------------------------------------------------------------------"
   ]
  },
  {
   "cell_type": "code",
   "execution_count": 20,
   "metadata": {
    "collapsed": true
   },
   "outputs": [],
   "source": [
    "filename = 'Q1DS4_Age.txt'                                                   # 4th raw data file\n",
    "rawdata_file = os.path.join(\".\", \"Data Files\", \"Question_1\", filename)       # creates path to read data\n",
    "q1ds4_df = pd.read_csv(rawdata_file, sep='\\t')                               # reads data from file"
   ]
  },
  {
   "cell_type": "code",
   "execution_count": 21,
   "metadata": {},
   "outputs": [
    {
     "data": {
      "text/html": [
       "<div>\n",
       "<style>\n",
       "    .dataframe thead tr:only-child th {\n",
       "        text-align: right;\n",
       "    }\n",
       "\n",
       "    .dataframe thead th {\n",
       "        text-align: left;\n",
       "    }\n",
       "\n",
       "    .dataframe tbody tr th {\n",
       "        vertical-align: top;\n",
       "    }\n",
       "</style>\n",
       "<table border=\"1\" class=\"dataframe\">\n",
       "  <thead>\n",
       "    <tr style=\"text-align: right;\">\n",
       "      <th></th>\n",
       "      <th>Notes</th>\n",
       "      <th>Ten-Year Age Groups</th>\n",
       "      <th>Ten-Year Age Groups Code</th>\n",
       "      <th>Deaths</th>\n",
       "      <th>Population</th>\n",
       "      <th>Crude Rate</th>\n",
       "    </tr>\n",
       "  </thead>\n",
       "  <tbody>\n",
       "    <tr>\n",
       "      <th>0</th>\n",
       "      <td>NaN</td>\n",
       "      <td>&lt; 1 year</td>\n",
       "      <td>1</td>\n",
       "      <td>158.0</td>\n",
       "      <td>71608191</td>\n",
       "      <td>0.2</td>\n",
       "    </tr>\n",
       "    <tr>\n",
       "      <th>1</th>\n",
       "      <td>NaN</td>\n",
       "      <td>1-4 years</td>\n",
       "      <td>1-4</td>\n",
       "      <td>425.0</td>\n",
       "      <td>285248834</td>\n",
       "      <td>0.1</td>\n",
       "    </tr>\n",
       "    <tr>\n",
       "      <th>2</th>\n",
       "      <td>NaN</td>\n",
       "      <td>5-14 years</td>\n",
       "      <td>5-14</td>\n",
       "      <td>436.0</td>\n",
       "      <td>737079143</td>\n",
       "      <td>0.1</td>\n",
       "    </tr>\n",
       "    <tr>\n",
       "      <th>3</th>\n",
       "      <td>NaN</td>\n",
       "      <td>15-24 years</td>\n",
       "      <td>15-24</td>\n",
       "      <td>32545.0</td>\n",
       "      <td>764330433</td>\n",
       "      <td>4.3</td>\n",
       "    </tr>\n",
       "    <tr>\n",
       "      <th>4</th>\n",
       "      <td>NaN</td>\n",
       "      <td>25-34 years</td>\n",
       "      <td>25-34</td>\n",
       "      <td>71071.0</td>\n",
       "      <td>737039056</td>\n",
       "      <td>9.6</td>\n",
       "    </tr>\n",
       "  </tbody>\n",
       "</table>\n",
       "</div>"
      ],
      "text/plain": [
       "  Notes Ten-Year Age Groups Ten-Year Age Groups Code   Deaths Population  \\\n",
       "0   NaN            < 1 year                        1    158.0   71608191   \n",
       "1   NaN           1-4 years                      1-4    425.0  285248834   \n",
       "2   NaN          5-14 years                     5-14    436.0  737079143   \n",
       "3   NaN         15-24 years                    15-24  32545.0  764330433   \n",
       "4   NaN         25-34 years                    25-34  71071.0  737039056   \n",
       "\n",
       "  Crude Rate  \n",
       "0        0.2  \n",
       "1        0.1  \n",
       "2        0.1  \n",
       "3        4.3  \n",
       "4        9.6  "
      ]
     },
     "execution_count": 21,
     "metadata": {},
     "output_type": "execute_result"
    }
   ],
   "source": [
    "q1ds4_df.head()                                                              # displays raw data"
   ]
  },
  {
   "cell_type": "code",
   "execution_count": 22,
   "metadata": {
    "collapsed": true
   },
   "outputs": [],
   "source": [
    "q1ds4_df.drop('Notes', axis=1, inplace=True)                                 # drops Notes column\n",
    "q1ds4_df.dropna(axis=0, how='any', inplace=True)                             # drops rows with NaN\n",
    "q1ds4_df.drop(q1ds4_df.index[-1], inplace=True)                              # drops age not stated row\n",
    "q1ds4_df['Deaths'] = q1ds4_df['Deaths'].astype(int)                          # casts datatypes for columns\n",
    "q1ds4_df['Population'] = q1ds4_df['Population'].astype(int)\n",
    "\n",
    "# Calculates death rate per 100,000 of population (Deaths / Population) * 100,000\n",
    "q1ds4_df['Death Rate'] = q1ds4_df['Deaths'] /  q1ds4_df['Population'] * 100000\n",
    "q1ds4_df.drop('Crude Rate', axis=1, inplace=True)                            # drops Crude Rate column"
   ]
  },
  {
   "cell_type": "code",
   "execution_count": 23,
   "metadata": {},
   "outputs": [
    {
     "data": {
      "text/html": [
       "<div>\n",
       "<style>\n",
       "    .dataframe thead tr:only-child th {\n",
       "        text-align: right;\n",
       "    }\n",
       "\n",
       "    .dataframe thead th {\n",
       "        text-align: left;\n",
       "    }\n",
       "\n",
       "    .dataframe tbody tr th {\n",
       "        vertical-align: top;\n",
       "    }\n",
       "</style>\n",
       "<table border=\"1\" class=\"dataframe\">\n",
       "  <thead>\n",
       "    <tr style=\"text-align: right;\">\n",
       "      <th></th>\n",
       "      <th>Ten-Year Age Groups</th>\n",
       "      <th>Ten-Year Age Groups Code</th>\n",
       "      <th>Deaths</th>\n",
       "      <th>Population</th>\n",
       "      <th>Death Rate</th>\n",
       "    </tr>\n",
       "  </thead>\n",
       "  <tbody>\n",
       "    <tr>\n",
       "      <th>0</th>\n",
       "      <td>&lt; 1 year</td>\n",
       "      <td>1</td>\n",
       "      <td>158</td>\n",
       "      <td>71608191</td>\n",
       "      <td>0.220645</td>\n",
       "    </tr>\n",
       "    <tr>\n",
       "      <th>1</th>\n",
       "      <td>1-4 years</td>\n",
       "      <td>1-4</td>\n",
       "      <td>425</td>\n",
       "      <td>285248834</td>\n",
       "      <td>0.148993</td>\n",
       "    </tr>\n",
       "    <tr>\n",
       "      <th>2</th>\n",
       "      <td>5-14 years</td>\n",
       "      <td>5-14</td>\n",
       "      <td>436</td>\n",
       "      <td>737079143</td>\n",
       "      <td>0.059152</td>\n",
       "    </tr>\n",
       "    <tr>\n",
       "      <th>3</th>\n",
       "      <td>15-24 years</td>\n",
       "      <td>15-24</td>\n",
       "      <td>32545</td>\n",
       "      <td>764330433</td>\n",
       "      <td>4.257975</td>\n",
       "    </tr>\n",
       "    <tr>\n",
       "      <th>4</th>\n",
       "      <td>25-34 years</td>\n",
       "      <td>25-34</td>\n",
       "      <td>71071</td>\n",
       "      <td>737039056</td>\n",
       "      <td>9.642773</td>\n",
       "    </tr>\n",
       "  </tbody>\n",
       "</table>\n",
       "</div>"
      ],
      "text/plain": [
       "  Ten-Year Age Groups Ten-Year Age Groups Code  Deaths  Population  Death Rate\n",
       "0            < 1 year                        1     158    71608191    0.220645\n",
       "1           1-4 years                      1-4     425   285248834    0.148993\n",
       "2          5-14 years                     5-14     436   737079143    0.059152\n",
       "3         15-24 years                    15-24   32545   764330433    4.257975\n",
       "4         25-34 years                    25-34   71071   737039056    9.642773"
      ]
     },
     "execution_count": 23,
     "metadata": {},
     "output_type": "execute_result"
    }
   ],
   "source": [
    "q1ds4_df.head()                                                              # displays cleaned dataframe"
   ]
  },
  {
   "cell_type": "code",
   "execution_count": 24,
   "metadata": {
    "collapsed": true
   },
   "outputs": [],
   "source": [
    "filename = 'Q1DS4.csv'                                                       # 4th cleaned data file\n",
    "csv_file = os.path.join(\".\", \"Data Files\", \"Question_1\", filename)           # creates path to write data\n",
    "q1ds4_df.to_csv(csv_file)                                                    # writes cleaned data to csv"
   ]
  },
  {
   "cell_type": "markdown",
   "metadata": {},
   "source": [
    "##### ---------------------------------------------------------------------------------------------------------------------------------------------------------------------------"
   ]
  },
  {
   "cell_type": "code",
   "execution_count": 25,
   "metadata": {
    "collapsed": true
   },
   "outputs": [],
   "source": [
    "filename = 'Q1DS5_Race.txt'                                                  # 5th raw data file\n",
    "rawdata_file = os.path.join(\".\", \"Data Files\", \"Question_1\", filename)       # creates path to read data\n",
    "q1ds5_df = pd.read_csv(rawdata_file, sep='\\t')                               # reads data from file"
   ]
  },
  {
   "cell_type": "code",
   "execution_count": 26,
   "metadata": {},
   "outputs": [
    {
     "data": {
      "text/html": [
       "<div>\n",
       "<style>\n",
       "    .dataframe thead tr:only-child th {\n",
       "        text-align: right;\n",
       "    }\n",
       "\n",
       "    .dataframe thead th {\n",
       "        text-align: left;\n",
       "    }\n",
       "\n",
       "    .dataframe tbody tr th {\n",
       "        vertical-align: top;\n",
       "    }\n",
       "</style>\n",
       "<table border=\"1\" class=\"dataframe\">\n",
       "  <thead>\n",
       "    <tr style=\"text-align: right;\">\n",
       "      <th></th>\n",
       "      <th>Notes</th>\n",
       "      <th>Race</th>\n",
       "      <th>Race Code</th>\n",
       "      <th>Deaths</th>\n",
       "      <th>Population</th>\n",
       "      <th>Crude Rate</th>\n",
       "      <th>Age Adjusted Rate</th>\n",
       "    </tr>\n",
       "  </thead>\n",
       "  <tbody>\n",
       "    <tr>\n",
       "      <th>0</th>\n",
       "      <td>NaN</td>\n",
       "      <td>American Indian or Alaska Native</td>\n",
       "      <td>1002-5</td>\n",
       "      <td>3578.0</td>\n",
       "      <td>6.924957e+07</td>\n",
       "      <td>5.2</td>\n",
       "      <td>5.4</td>\n",
       "    </tr>\n",
       "    <tr>\n",
       "      <th>1</th>\n",
       "      <td>NaN</td>\n",
       "      <td>Asian or Pacific Islander</td>\n",
       "      <td>A-PI</td>\n",
       "      <td>1986.0</td>\n",
       "      <td>2.848739e+08</td>\n",
       "      <td>0.7</td>\n",
       "      <td>0.6</td>\n",
       "    </tr>\n",
       "    <tr>\n",
       "      <th>2</th>\n",
       "      <td>NaN</td>\n",
       "      <td>Black or African American</td>\n",
       "      <td>2054-5</td>\n",
       "      <td>24111.0</td>\n",
       "      <td>7.331076e+08</td>\n",
       "      <td>3.3</td>\n",
       "      <td>3.4</td>\n",
       "    </tr>\n",
       "    <tr>\n",
       "      <th>3</th>\n",
       "      <td>NaN</td>\n",
       "      <td>White</td>\n",
       "      <td>2106-3</td>\n",
       "      <td>284087.0</td>\n",
       "      <td>4.348515e+09</td>\n",
       "      <td>6.5</td>\n",
       "      <td>6.6</td>\n",
       "    </tr>\n",
       "    <tr>\n",
       "      <th>4</th>\n",
       "      <td>Total</td>\n",
       "      <td>NaN</td>\n",
       "      <td>NaN</td>\n",
       "      <td>313762.0</td>\n",
       "      <td>5.435746e+09</td>\n",
       "      <td>5.8</td>\n",
       "      <td>5.8</td>\n",
       "    </tr>\n",
       "  </tbody>\n",
       "</table>\n",
       "</div>"
      ],
      "text/plain": [
       "   Notes                              Race Race Code    Deaths    Population  \\\n",
       "0    NaN  American Indian or Alaska Native    1002-5    3578.0  6.924957e+07   \n",
       "1    NaN         Asian or Pacific Islander      A-PI    1986.0  2.848739e+08   \n",
       "2    NaN         Black or African American    2054-5   24111.0  7.331076e+08   \n",
       "3    NaN                             White    2106-3  284087.0  4.348515e+09   \n",
       "4  Total                               NaN       NaN  313762.0  5.435746e+09   \n",
       "\n",
       "   Crude Rate  Age Adjusted Rate  \n",
       "0         5.2                5.4  \n",
       "1         0.7                0.6  \n",
       "2         3.3                3.4  \n",
       "3         6.5                6.6  \n",
       "4         5.8                5.8  "
      ]
     },
     "execution_count": 26,
     "metadata": {},
     "output_type": "execute_result"
    }
   ],
   "source": [
    "q1ds5_df.head()                                                              # displays raw data"
   ]
  },
  {
   "cell_type": "code",
   "execution_count": 27,
   "metadata": {
    "collapsed": true
   },
   "outputs": [],
   "source": [
    "q1ds5_df.drop('Notes', axis=1, inplace=True)                                 # drops Notes column\n",
    "q1ds5_df.dropna(axis=0, how='any', inplace=True)                             # drops rows with NaN\n",
    "q1ds5_df['Deaths'] = q1ds5_df['Deaths'].astype(int)                          # casts datatypes for columns\n",
    "\n",
    "# Calculates death rate per 100,000 of population (Deaths / Population) * 100,000\n",
    "q1ds5_df['Death Rate'] = q1ds5_df['Deaths'] /  q1ds5_df['Population'] * 100000\n",
    "q1ds5_df.drop('Crude Rate', axis=1, inplace=True)                            # drops Crude Rate column\n",
    "q1ds5_df.drop('Age Adjusted Rate', axis=1, inplace=True)                     # drops Age Adj rate column"
   ]
  },
  {
   "cell_type": "code",
   "execution_count": 28,
   "metadata": {},
   "outputs": [
    {
     "data": {
      "text/html": [
       "<div>\n",
       "<style>\n",
       "    .dataframe thead tr:only-child th {\n",
       "        text-align: right;\n",
       "    }\n",
       "\n",
       "    .dataframe thead th {\n",
       "        text-align: left;\n",
       "    }\n",
       "\n",
       "    .dataframe tbody tr th {\n",
       "        vertical-align: top;\n",
       "    }\n",
       "</style>\n",
       "<table border=\"1\" class=\"dataframe\">\n",
       "  <thead>\n",
       "    <tr style=\"text-align: right;\">\n",
       "      <th></th>\n",
       "      <th>Race</th>\n",
       "      <th>Race Code</th>\n",
       "      <th>Deaths</th>\n",
       "      <th>Population</th>\n",
       "      <th>Death Rate</th>\n",
       "    </tr>\n",
       "  </thead>\n",
       "  <tbody>\n",
       "    <tr>\n",
       "      <th>0</th>\n",
       "      <td>American Indian or Alaska Native</td>\n",
       "      <td>1002-5</td>\n",
       "      <td>3578</td>\n",
       "      <td>6.924957e+07</td>\n",
       "      <td>5.166819</td>\n",
       "    </tr>\n",
       "    <tr>\n",
       "      <th>1</th>\n",
       "      <td>Asian or Pacific Islander</td>\n",
       "      <td>A-PI</td>\n",
       "      <td>1986</td>\n",
       "      <td>2.848739e+08</td>\n",
       "      <td>0.697151</td>\n",
       "    </tr>\n",
       "    <tr>\n",
       "      <th>2</th>\n",
       "      <td>Black or African American</td>\n",
       "      <td>2054-5</td>\n",
       "      <td>24111</td>\n",
       "      <td>7.331076e+08</td>\n",
       "      <td>3.288876</td>\n",
       "    </tr>\n",
       "    <tr>\n",
       "      <th>3</th>\n",
       "      <td>White</td>\n",
       "      <td>2106-3</td>\n",
       "      <td>284087</td>\n",
       "      <td>4.348515e+09</td>\n",
       "      <td>6.532965</td>\n",
       "    </tr>\n",
       "  </tbody>\n",
       "</table>\n",
       "</div>"
      ],
      "text/plain": [
       "                               Race Race Code  Deaths    Population  \\\n",
       "0  American Indian or Alaska Native    1002-5    3578  6.924957e+07   \n",
       "1         Asian or Pacific Islander      A-PI    1986  2.848739e+08   \n",
       "2         Black or African American    2054-5   24111  7.331076e+08   \n",
       "3                             White    2106-3  284087  4.348515e+09   \n",
       "\n",
       "   Death Rate  \n",
       "0    5.166819  \n",
       "1    0.697151  \n",
       "2    3.288876  \n",
       "3    6.532965  "
      ]
     },
     "execution_count": 28,
     "metadata": {},
     "output_type": "execute_result"
    }
   ],
   "source": [
    "q1ds5_df.head()                                                              # displays cleaned dataframe"
   ]
  },
  {
   "cell_type": "code",
   "execution_count": 29,
   "metadata": {
    "collapsed": true
   },
   "outputs": [],
   "source": [
    "filename = 'Q1DS5.csv'                                                       # 5th cleaned data file\n",
    "csv_file = os.path.join(\".\", \"Data Files\", \"Question_1\", filename)           # creates path to write data\n",
    "q1ds5_df.to_csv(csv_file)                                                    # writes cleaned data to csv"
   ]
  },
  {
   "cell_type": "markdown",
   "metadata": {},
   "source": [
    "##### ---------------------------------------------------------------------------------------------------------------------------------------------------------------------------"
   ]
  },
  {
   "cell_type": "code",
   "execution_count": 30,
   "metadata": {
    "collapsed": true
   },
   "outputs": [],
   "source": [
    "filename = 'Q1DS6_County.txt'                                                # 6th raw data file\n",
    "rawdata_file = os.path.join(\".\", \"Data Files\", \"Question_1\", filename)       # creates path to read data\n",
    "q1ds6_df = pd.read_csv(rawdata_file, sep='\\t')                               # reads data from file"
   ]
  },
  {
   "cell_type": "code",
   "execution_count": 31,
   "metadata": {},
   "outputs": [
    {
     "data": {
      "text/html": [
       "<div>\n",
       "<style>\n",
       "    .dataframe thead tr:only-child th {\n",
       "        text-align: right;\n",
       "    }\n",
       "\n",
       "    .dataframe thead th {\n",
       "        text-align: left;\n",
       "    }\n",
       "\n",
       "    .dataframe tbody tr th {\n",
       "        vertical-align: top;\n",
       "    }\n",
       "</style>\n",
       "<table border=\"1\" class=\"dataframe\">\n",
       "  <thead>\n",
       "    <tr style=\"text-align: right;\">\n",
       "      <th></th>\n",
       "      <th>Notes</th>\n",
       "      <th>County</th>\n",
       "      <th>County Code</th>\n",
       "      <th>Deaths</th>\n",
       "      <th>Population</th>\n",
       "      <th>Crude Rate</th>\n",
       "    </tr>\n",
       "  </thead>\n",
       "  <tbody>\n",
       "    <tr>\n",
       "      <th>0</th>\n",
       "      <td>NaN</td>\n",
       "      <td>Baldwin County, AL</td>\n",
       "      <td>1003.0</td>\n",
       "      <td>185.0</td>\n",
       "      <td>3104213.0</td>\n",
       "      <td>6.0</td>\n",
       "    </tr>\n",
       "    <tr>\n",
       "      <th>1</th>\n",
       "      <td>NaN</td>\n",
       "      <td>Bibb County, AL</td>\n",
       "      <td>1007.0</td>\n",
       "      <td>12.0</td>\n",
       "      <td>397480.0</td>\n",
       "      <td>Unreliable</td>\n",
       "    </tr>\n",
       "    <tr>\n",
       "      <th>2</th>\n",
       "      <td>NaN</td>\n",
       "      <td>Blount County, AL</td>\n",
       "      <td>1009.0</td>\n",
       "      <td>44.0</td>\n",
       "      <td>997776.0</td>\n",
       "      <td>4.4</td>\n",
       "    </tr>\n",
       "    <tr>\n",
       "      <th>3</th>\n",
       "      <td>NaN</td>\n",
       "      <td>Calhoun County, AL</td>\n",
       "      <td>1015.0</td>\n",
       "      <td>12.0</td>\n",
       "      <td>2074478.0</td>\n",
       "      <td>Unreliable</td>\n",
       "    </tr>\n",
       "    <tr>\n",
       "      <th>4</th>\n",
       "      <td>NaN</td>\n",
       "      <td>Cherokee County, AL</td>\n",
       "      <td>1019.0</td>\n",
       "      <td>13.0</td>\n",
       "      <td>455087.0</td>\n",
       "      <td>Unreliable</td>\n",
       "    </tr>\n",
       "  </tbody>\n",
       "</table>\n",
       "</div>"
      ],
      "text/plain": [
       "  Notes               County  County Code  Deaths  Population  Crude Rate\n",
       "0   NaN   Baldwin County, AL       1003.0   185.0   3104213.0         6.0\n",
       "1   NaN      Bibb County, AL       1007.0    12.0    397480.0  Unreliable\n",
       "2   NaN    Blount County, AL       1009.0    44.0    997776.0         4.4\n",
       "3   NaN   Calhoun County, AL       1015.0    12.0   2074478.0  Unreliable\n",
       "4   NaN  Cherokee County, AL       1019.0    13.0    455087.0  Unreliable"
      ]
     },
     "execution_count": 31,
     "metadata": {},
     "output_type": "execute_result"
    }
   ],
   "source": [
    "q1ds6_df.head()                                                              # displays raw data"
   ]
  },
  {
   "cell_type": "code",
   "execution_count": 32,
   "metadata": {
    "collapsed": true
   },
   "outputs": [],
   "source": [
    "q1ds6_df.drop('Notes', axis=1, inplace=True)                                 # drops Notes column\n",
    "q1ds6_df.dropna(axis=0, how='any', inplace=True)                             # drops rows with NaN\n",
    "q1ds6_df['Deaths'] = q1ds6_df['Deaths'].astype(int)                          # casts datatypes for columns\n",
    "q1ds6_df['Population'] = q1ds6_df['Population'].astype(int)\n",
    "q1ds6_df['County Code'] = q1ds6_df['County Code'].astype(int)\n",
    "q1ds6_df['County Code'] = q1ds6_df['County Code'].astype(str)\n",
    "\n",
    "# Calculates death rate per 100,000 of population (Deaths / Population) * 100,000\n",
    "q1ds6_df['Death Rate'] = q1ds6_df['Deaths'] /  q1ds6_df['Population'] * 100000\n",
    "q1ds6_df.drop('Crude Rate', axis=1, inplace=True)                            # drops Crude Rate column"
   ]
  },
  {
   "cell_type": "code",
   "execution_count": 33,
   "metadata": {},
   "outputs": [
    {
     "data": {
      "text/html": [
       "<div>\n",
       "<style>\n",
       "    .dataframe thead tr:only-child th {\n",
       "        text-align: right;\n",
       "    }\n",
       "\n",
       "    .dataframe thead th {\n",
       "        text-align: left;\n",
       "    }\n",
       "\n",
       "    .dataframe tbody tr th {\n",
       "        vertical-align: top;\n",
       "    }\n",
       "</style>\n",
       "<table border=\"1\" class=\"dataframe\">\n",
       "  <thead>\n",
       "    <tr style=\"text-align: right;\">\n",
       "      <th></th>\n",
       "      <th>County</th>\n",
       "      <th>County Code</th>\n",
       "      <th>Deaths</th>\n",
       "      <th>Population</th>\n",
       "      <th>Death Rate</th>\n",
       "    </tr>\n",
       "  </thead>\n",
       "  <tbody>\n",
       "    <tr>\n",
       "      <th>0</th>\n",
       "      <td>Baldwin County, AL</td>\n",
       "      <td>1003</td>\n",
       "      <td>185</td>\n",
       "      <td>3104213</td>\n",
       "      <td>5.959643</td>\n",
       "    </tr>\n",
       "    <tr>\n",
       "      <th>1</th>\n",
       "      <td>Bibb County, AL</td>\n",
       "      <td>1007</td>\n",
       "      <td>12</td>\n",
       "      <td>397480</td>\n",
       "      <td>3.019020</td>\n",
       "    </tr>\n",
       "    <tr>\n",
       "      <th>2</th>\n",
       "      <td>Blount County, AL</td>\n",
       "      <td>1009</td>\n",
       "      <td>44</td>\n",
       "      <td>997776</td>\n",
       "      <td>4.409807</td>\n",
       "    </tr>\n",
       "    <tr>\n",
       "      <th>3</th>\n",
       "      <td>Calhoun County, AL</td>\n",
       "      <td>1015</td>\n",
       "      <td>12</td>\n",
       "      <td>2074478</td>\n",
       "      <td>0.578459</td>\n",
       "    </tr>\n",
       "    <tr>\n",
       "      <th>4</th>\n",
       "      <td>Cherokee County, AL</td>\n",
       "      <td>1019</td>\n",
       "      <td>13</td>\n",
       "      <td>455087</td>\n",
       "      <td>2.856597</td>\n",
       "    </tr>\n",
       "  </tbody>\n",
       "</table>\n",
       "</div>"
      ],
      "text/plain": [
       "                County County Code  Deaths  Population  Death Rate\n",
       "0   Baldwin County, AL        1003     185     3104213    5.959643\n",
       "1      Bibb County, AL        1007      12      397480    3.019020\n",
       "2    Blount County, AL        1009      44      997776    4.409807\n",
       "3   Calhoun County, AL        1015      12     2074478    0.578459\n",
       "4  Cherokee County, AL        1019      13      455087    2.856597"
      ]
     },
     "execution_count": 33,
     "metadata": {},
     "output_type": "execute_result"
    }
   ],
   "source": [
    "q1ds6_df.head()                                                              # displays cleaned dataframe"
   ]
  },
  {
   "cell_type": "code",
   "execution_count": 34,
   "metadata": {
    "collapsed": true
   },
   "outputs": [],
   "source": [
    "filename = 'Q1DS6.csv'                                                       # 6th cleaned data file\n",
    "csv_file = os.path.join(\".\", \"Data Files\", \"Question_1\", filename)           # creates path to write data\n",
    "q1ds6_df.to_csv(csv_file)                                                    # writes cleaned data to csv"
   ]
  },
  {
   "cell_type": "code",
   "execution_count": 35,
   "metadata": {
    "collapsed": true
   },
   "outputs": [],
   "source": [
    "q1ds6_df.drop('County', axis=1, inplace=True)                                # drops unneeded columns\n",
    "q1ds6_df.drop('Deaths', axis=1, inplace=True)                                 \n",
    "q1ds6_df.drop('Population', axis=1, inplace=True)\n",
    "q1ds6_df.set_index('County Code', inplace=True)                              # reindexes by County Code"
   ]
  },
  {
   "cell_type": "code",
   "execution_count": 36,
   "metadata": {},
   "outputs": [
    {
     "data": {
      "text/html": [
       "<div>\n",
       "<style>\n",
       "    .dataframe thead tr:only-child th {\n",
       "        text-align: right;\n",
       "    }\n",
       "\n",
       "    .dataframe thead th {\n",
       "        text-align: left;\n",
       "    }\n",
       "\n",
       "    .dataframe tbody tr th {\n",
       "        vertical-align: top;\n",
       "    }\n",
       "</style>\n",
       "<table border=\"1\" class=\"dataframe\">\n",
       "  <thead>\n",
       "    <tr style=\"text-align: right;\">\n",
       "      <th></th>\n",
       "      <th>Death Rate</th>\n",
       "    </tr>\n",
       "    <tr>\n",
       "      <th>County Code</th>\n",
       "      <th></th>\n",
       "    </tr>\n",
       "  </thead>\n",
       "  <tbody>\n",
       "    <tr>\n",
       "      <th>1003</th>\n",
       "      <td>5.959643</td>\n",
       "    </tr>\n",
       "    <tr>\n",
       "      <th>1007</th>\n",
       "      <td>3.019020</td>\n",
       "    </tr>\n",
       "    <tr>\n",
       "      <th>1009</th>\n",
       "      <td>4.409807</td>\n",
       "    </tr>\n",
       "    <tr>\n",
       "      <th>1015</th>\n",
       "      <td>0.578459</td>\n",
       "    </tr>\n",
       "    <tr>\n",
       "      <th>1019</th>\n",
       "      <td>2.856597</td>\n",
       "    </tr>\n",
       "  </tbody>\n",
       "</table>\n",
       "</div>"
      ],
      "text/plain": [
       "             Death Rate\n",
       "County Code            \n",
       "1003           5.959643\n",
       "1007           3.019020\n",
       "1009           4.409807\n",
       "1015           0.578459\n",
       "1019           2.856597"
      ]
     },
     "execution_count": 36,
     "metadata": {},
     "output_type": "execute_result"
    }
   ],
   "source": [
    "q1ds6_df.head()                                                              # displays cleaned JSON data"
   ]
  },
  {
   "cell_type": "code",
   "execution_count": 37,
   "metadata": {
    "collapsed": true
   },
   "outputs": [],
   "source": [
    "json_dict = {}                                                               # initializes empty dict \n",
    "\n",
    "for index, row in q1ds6_df.iterrows():                                       # iterates through dataframe\n",
    "    if index not in json_dict:                                               # checks for duplicates...\n",
    "        json_dict[index] = row[0]                                            # adds data to dictionary"
   ]
  },
  {
   "cell_type": "code",
   "execution_count": 38,
   "metadata": {
    "collapsed": true
   },
   "outputs": [],
   "source": [
    "filename = 'Q1DS6.json'                                                      # 6th cleaned json data file\n",
    "json_file = os.path.join(\".\", \"Data Files\", \"Question_1\", filename)          # creates path to write data\n",
    "\n",
    "with open(json_file, \"w\") as f:                                              # opens file in write mode\n",
    "    f.write(json.dumps(json_dict))                                           # writes json data to file "
   ]
  },
  {
   "cell_type": "markdown",
   "metadata": {
    "collapsed": true
   },
   "source": [
    "#### Research Question 2: clean up raw data and export"
   ]
  },
  {
   "cell_type": "code",
   "execution_count": null,
   "metadata": {
    "collapsed": true
   },
   "outputs": [],
   "source": []
  },
  {
   "cell_type": "markdown",
   "metadata": {
    "collapsed": true
   },
   "source": [
    "#### Research Question 3: clean up raw data and export"
   ]
  },
  {
   "cell_type": "code",
   "execution_count": null,
   "metadata": {
    "collapsed": true
   },
   "outputs": [],
   "source": []
  },
  {
   "cell_type": "markdown",
   "metadata": {},
   "source": [
    "#### Research Question 4: clean up raw data and export"
   ]
  },
  {
   "cell_type": "code",
   "execution_count": null,
   "metadata": {
    "collapsed": true
   },
   "outputs": [],
   "source": []
  }
 ],
 "metadata": {
  "celltoolbar": "Raw Cell Format",
  "kernelspec": {
   "display_name": "Python (PythonData)",
   "language": "python",
   "name": "pythondata"
  },
  "language_info": {
   "codemirror_mode": {
    "name": "ipython",
    "version": 3
   },
   "file_extension": ".py",
   "mimetype": "text/x-python",
   "name": "python",
   "nbconvert_exporter": "python",
   "pygments_lexer": "ipython3",
   "version": "3.6.3"
  }
 },
 "nbformat": 4,
 "nbformat_minor": 2
}
